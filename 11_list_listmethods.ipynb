{
 "cells": [
  {
   "cell_type": "markdown",
   "id": "88d93829-ae0a-45d0-bf04-05dc38eeb9ae",
   "metadata": {},
   "source": [
    "# List and List methods in Python."
   ]
  },
  {
   "cell_type": "markdown",
   "id": "00079320-5b0b-4348-8763-061a5f11eb4e",
   "metadata": {},
   "source": [
    "## What is a list?\n",
    "\n",
    "A <B>list</B> in Python is an ordered, mutable collection of elements. It contains element of different types.\n",
    "\n",
    "### Creating a List:"
   ]
  },
  {
   "cell_type": "code",
   "execution_count": 3,
   "id": "111402a7-85e4-43cf-a520-88e5eb2e81ae",
   "metadata": {},
   "outputs": [],
   "source": [
    "# Empty List \n",
    "my_list = []\n",
    "\n",
    "# list with elements \n",
    "numbers = [1,2,3,4,5]\n",
    "\n",
    "# Mixed Data Types\n",
    "mixed_list = [1, \"Hello\",3.14, True]"
   ]
  },
  {
   "cell_type": "markdown",
   "id": "cd647db7-b958-499a-a31a-eda33cca27b7",
   "metadata": {},
   "source": [
    "### List usage (Indexing and Slicing in List)"
   ]
  },
  {
   "cell_type": "code",
   "execution_count": 5,
   "id": "883f3c7e-e258-44ca-a53d-f96f8eba736d",
   "metadata": {},
   "outputs": [],
   "source": [
    "l = [3,5,23,3]"
   ]
  },
  {
   "cell_type": "code",
   "execution_count": 6,
   "id": "d6feaec2-659b-4005-b3e8-d6c68619572b",
   "metadata": {},
   "outputs": [
    {
     "data": {
      "text/plain": [
       "[5, 23]"
      ]
     },
     "execution_count": 6,
     "metadata": {},
     "output_type": "execute_result"
    }
   ],
   "source": [
    "# List indexing starts from 0.\n",
    "l[1] # Indexing \n",
    "l[1:3] # Slicing "
   ]
  },
  {
   "cell_type": "code",
   "execution_count": 7,
   "id": "f21a00a9-af53-483c-aad5-ec669d9cfa02",
   "metadata": {},
   "outputs": [],
   "source": [
    "# l[4]  # It give an erro that list indexing is out of range."
   ]
  },
  {
   "cell_type": "code",
   "execution_count": 8,
   "id": "c7b52d49-e365-4c57-b7d9-6ba0f5b24498",
   "metadata": {},
   "outputs": [
    {
     "name": "stdout",
     "output_type": "stream",
     "text": [
      "[1, 5, 23, 3]\n"
     ]
    }
   ],
   "source": [
    "l[0] = 1 # List is mutable.\n",
    "print(l)"
   ]
  },
  {
   "cell_type": "markdown",
   "id": "d490f6dd-b2df-4bba-995a-669d20381f9a",
   "metadata": {},
   "source": [
    "### Example Usage:"
   ]
  },
  {
   "cell_type": "code",
   "execution_count": 10,
   "id": "5825bd69-8d8f-4735-9bb2-af011d95dcdd",
   "metadata": {},
   "outputs": [
    {
     "name": "stdout",
     "output_type": "stream",
     "text": [
      "['Apple', 'Banana', 'Cherry', 'Orange']\n"
     ]
    }
   ],
   "source": [
    "fruits = [\"Apple\",\"Banana\",\"Cherry\"]\n",
    "fruits.append(\"Orange\")\n",
    "print(fruits)"
   ]
  },
  {
   "cell_type": "code",
   "execution_count": 11,
   "id": "b2004930-dfb0-4408-81ba-6b545d9d38d2",
   "metadata": {},
   "outputs": [
    {
     "name": "stdout",
     "output_type": "stream",
     "text": [
      "['Apple', 'Banana', 'Cherry', 'Orange']\n"
     ]
    }
   ],
   "source": [
    "fruits.sort()\n",
    "print(fruits)"
   ]
  },
  {
   "cell_type": "markdown",
   "id": "05b8df7f-0dff-4155-8ed9-724550050e3a",
   "metadata": {},
   "source": [
    " - list most of the methods not give us a new list it will modify the orignal one list"
   ]
  },
  {
   "cell_type": "code",
   "execution_count": 13,
   "id": "81d4c0f9-87af-4069-8d5b-f9cde463a497",
   "metadata": {},
   "outputs": [
    {
     "name": "stdout",
     "output_type": "stream",
     "text": [
      "[5, 7]\n"
     ]
    }
   ],
   "source": [
    "l2 = [5,7]\n",
    "l.extend(l2)\n",
    "print(l2)"
   ]
  },
  {
   "cell_type": "code",
   "execution_count": 14,
   "id": "41e586e4-5f1e-4848-b7e3-c5d4dd3f50d9",
   "metadata": {},
   "outputs": [
    {
     "name": "stdout",
     "output_type": "stream",
     "text": [
      "[1, 5, 23, 3, 5, 7]\n"
     ]
    }
   ],
   "source": [
    "print(l) # l is extend"
   ]
  },
  {
   "cell_type": "code",
   "execution_count": 15,
   "id": "56d0d3dc-1c71-464b-8f6a-5779482890ca",
   "metadata": {},
   "outputs": [
    {
     "data": {
      "text/plain": [
       "[1, 5, 23, 3, 5, 7]"
      ]
     },
     "execution_count": 15,
     "metadata": {},
     "output_type": "execute_result"
    }
   ],
   "source": [
    "l"
   ]
  },
  {
   "cell_type": "code",
   "execution_count": 16,
   "id": "3cdd090d-3959-49c4-844b-50cf844349d6",
   "metadata": {},
   "outputs": [
    {
     "data": {
      "text/plain": [
       "5"
      ]
     },
     "execution_count": 16,
     "metadata": {},
     "output_type": "execute_result"
    }
   ],
   "source": [
    "number = l.pop(4)\n",
    "number"
   ]
  },
  {
   "cell_type": "code",
   "execution_count": 17,
   "id": "27786dd2-c03f-4c85-939a-2af1f28c7861",
   "metadata": {},
   "outputs": [],
   "source": [
    "l.clear()"
   ]
  },
  {
   "cell_type": "code",
   "execution_count": 18,
   "id": "93589ec4-2883-4372-9b0e-4b5a0c614a00",
   "metadata": {},
   "outputs": [
    {
     "data": {
      "text/plain": [
       "[]"
      ]
     },
     "execution_count": 18,
     "metadata": {},
     "output_type": "execute_result"
    }
   ],
   "source": [
    "l"
   ]
  },
  {
   "cell_type": "code",
   "execution_count": 19,
   "id": "79d834ee-80da-4a92-bfeb-8dbb7711388e",
   "metadata": {},
   "outputs": [
    {
     "data": {
      "text/plain": [
       "['jaxk', 'kshitij', 'aayush', 'karan', 'sarthak', 'swayam', 'manish']"
      ]
     },
     "execution_count": 19,
     "metadata": {},
     "output_type": "execute_result"
    }
   ],
   "source": [
    "s = \"jaxk-kshitij-aayush-karan-sarthak-swayam-manish\"\n",
    "s.split(\"-\")"
   ]
  },
  {
   "cell_type": "code",
   "execution_count": null,
   "id": "61647cb3-c1d2-4c80-91cc-f0341c23d600",
   "metadata": {},
   "outputs": [],
   "source": []
  }
 ],
 "metadata": {
  "kernelspec": {
   "display_name": "Python [conda env:base] *",
   "language": "python",
   "name": "conda-base-py"
  },
  "language_info": {
   "codemirror_mode": {
    "name": "ipython",
    "version": 3
   },
   "file_extension": ".py",
   "mimetype": "text/x-python",
   "name": "python",
   "nbconvert_exporter": "python",
   "pygments_lexer": "ipython3",
   "version": "3.12.7"
  }
 },
 "nbformat": 4,
 "nbformat_minor": 5
}
