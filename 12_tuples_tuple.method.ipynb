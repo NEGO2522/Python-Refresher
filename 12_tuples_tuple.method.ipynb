{
 "cells": [
  {
   "cell_type": "markdown",
   "id": "13a75ca2-1021-46b1-aee0-27b75217fa6b",
   "metadata": {},
   "source": [
    "# Tuples In Pyhton"
   ]
  },
  {
   "cell_type": "markdown",
   "id": "5b25a58b-375f-4d70-a8ac-553a52685e93",
   "metadata": {},
   "source": [
    "A <b>tuple</b> in Pyhton is an ordered, immutable , collection of elements. It is similar to a list, but once created , its elements cannot be modified"
   ]
  },
  {
   "cell_type": "code",
   "execution_count": 3,
   "id": "ecd83b1e-405f-472b-b597-3f7baea24fe4",
   "metadata": {},
   "outputs": [],
   "source": [
    "# Emptyhy tuple\n",
    "empty_tuple= ()"
   ]
  },
  {
   "cell_type": "code",
   "execution_count": 7,
   "id": "2e566a68-0f51-426d-9d77-c13f757431f2",
   "metadata": {},
   "outputs": [],
   "source": [
    "# Tuple wiht single element \n",
    "number = (2,)\n",
    "# Tuple with elements\n",
    "numbers = (1,2,3,4,5)"
   ]
  },
  {
   "cell_type": "code",
   "execution_count": 9,
   "id": "9f0a83f1-69c6-4a72-b704-a1b229b7c0d0",
   "metadata": {},
   "outputs": [],
   "source": [
    "# Mixed Data Types \n",
    "mixed_tuple = (1,\"Hello\",3.14,True)"
   ]
  },
  {
   "cell_type": "markdown",
   "id": "075c6def-7df5-460c-ab4f-40057cf5e06c",
   "metadata": {},
   "source": [
    "### Tuple Methods"
   ]
  },
  {
   "cell_type": "code",
   "execution_count": 14,
   "id": "6ec9f0e0-97f3-4443-b20b-db27c4e579c7",
   "metadata": {},
   "outputs": [
    {
     "data": {
      "text/plain": [
       "2"
      ]
     },
     "execution_count": 14,
     "metadata": {},
     "output_type": "execute_result"
    }
   ],
   "source": [
    "# Count Method \n",
    "tup = (1,2,3,4,5,3)\n",
    "tup.count(3)\n"
   ]
  },
  {
   "cell_type": "code",
   "execution_count": 18,
   "id": "707bb435-d87a-4659-ae75-4a277d2fe36c",
   "metadata": {},
   "outputs": [
    {
     "data": {
      "text/plain": [
       "4"
      ]
     },
     "execution_count": 18,
     "metadata": {},
     "output_type": "execute_result"
    }
   ],
   "source": [
    "# index Method \n",
    "tup = (1,2,4,5,3)\n",
    "tup.index(3)"
   ]
  },
  {
   "cell_type": "markdown",
   "id": "a6641967-3c06-4a8b-8e46-d38855def5a4",
   "metadata": {},
   "source": [
    "### Accesing An Tuple."
   ]
  },
  {
   "cell_type": "code",
   "execution_count": 28,
   "id": "f901e6de-1a2c-4b46-8aca-59780f304a2c",
   "metadata": {},
   "outputs": [
    {
     "data": {
      "text/plain": [
       "4"
      ]
     },
     "execution_count": 28,
     "metadata": {},
     "output_type": "execute_result"
    }
   ],
   "source": [
    "t = (5,64,23,23)\n",
    "len(t)"
   ]
  },
  {
   "cell_type": "code",
   "execution_count": 30,
   "id": "26c664a6-1fee-4b50-ad0e-18c70b15e5a3",
   "metadata": {},
   "outputs": [
    {
     "data": {
      "text/plain": [
       "(5, 64, 23, 23)"
      ]
     },
     "execution_count": 30,
     "metadata": {},
     "output_type": "execute_result"
    }
   ],
   "source": [
    "t"
   ]
  },
  {
   "cell_type": "code",
   "execution_count": 34,
   "id": "4f739cc5-948f-4589-8491-c12bc9d7b95e",
   "metadata": {},
   "outputs": [
    {
     "name": "stdout",
     "output_type": "stream",
     "text": [
      "23\n"
     ]
    }
   ],
   "source": [
    "# Indexing in the tuple.\n",
    "print(t[2]) # 23"
   ]
  },
  {
   "cell_type": "code",
   "execution_count": 36,
   "id": "abce71a8-0275-49e3-a044-ab09c0665e22",
   "metadata": {},
   "outputs": [
    {
     "name": "stdout",
     "output_type": "stream",
     "text": [
      "(23,)\n"
     ]
    }
   ],
   "source": [
    "# Slicing in the Tuple.\n",
    "print(t[2:3]) # 23"
   ]
  },
  {
   "cell_type": "code",
   "execution_count": 42,
   "id": "c713ba26-ba03-419f-a3c4-a7a824e7e8b7",
   "metadata": {},
   "outputs": [],
   "source": [
    " # t[1] = 34 # Give an error because tuple is immutable we can't modify element of tuple."
   ]
  },
  {
   "cell_type": "markdown",
   "id": "722773f1-9979-4785-b430-181c80304f17",
   "metadata": {},
   "source": [
    "### Packing and Unpacking "
   ]
  },
  {
   "cell_type": "code",
   "execution_count": 45,
   "id": "60535c46-314e-4f23-9bb4-9f5cc92e11d4",
   "metadata": {},
   "outputs": [],
   "source": [
    "# Packing \n",
    "person = (\"Kshitij\",18, 6.29)"
   ]
  },
  {
   "cell_type": "code",
   "execution_count": 47,
   "id": "e6335208-c825-422c-9f49-ba29ffdacf16",
   "metadata": {},
   "outputs": [],
   "source": [
    "# Unpacking in tuple\n",
    "name,age,cgpa = person"
   ]
  },
  {
   "cell_type": "code",
   "execution_count": 49,
   "id": "703c4925-1bcd-4d5e-aa08-f31441b8f1c9",
   "metadata": {},
   "outputs": [
    {
     "name": "stdout",
     "output_type": "stream",
     "text": [
      "Kshitij\n"
     ]
    }
   ],
   "source": [
    "print(name)"
   ]
  },
  {
   "cell_type": "code",
   "execution_count": 51,
   "id": "fd442acd-bc8d-4c10-988e-b27df016df47",
   "metadata": {},
   "outputs": [
    {
     "name": "stdout",
     "output_type": "stream",
     "text": [
      "18\n",
      "6.29\n"
     ]
    }
   ],
   "source": [
    "print(age)\n",
    "print(cgpa)"
   ]
  },
  {
   "cell_type": "code",
   "execution_count": null,
   "id": "331e8d96-f34a-41ba-b4d0-0cde6809eb2f",
   "metadata": {},
   "outputs": [],
   "source": []
  }
 ],
 "metadata": {
  "kernelspec": {
   "display_name": "Python [conda env:base] *",
   "language": "python",
   "name": "conda-base-py"
  },
  "language_info": {
   "codemirror_mode": {
    "name": "ipython",
    "version": 3
   },
   "file_extension": ".py",
   "mimetype": "text/x-python",
   "name": "python",
   "nbconvert_exporter": "python",
   "pygments_lexer": "ipython3",
   "version": "3.12.7"
  }
 },
 "nbformat": 4,
 "nbformat_minor": 5
}
