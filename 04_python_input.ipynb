{
 "cells": [
  {
   "cell_type": "markdown",
   "id": "e07a1e53-1e8e-4cd9-babd-1b918c0e0707",
   "metadata": {},
   "source": [
    "# Taking Input From The User "
   ]
  },
  {
   "cell_type": "code",
   "execution_count": 52,
   "id": "9e4677cf-dcd4-4655-8880-cef22e279868",
   "metadata": {},
   "outputs": [
    {
     "name": "stdin",
     "output_type": "stream",
     "text": [
      "Enter the Value of a 21\n"
     ]
    }
   ],
   "source": [
    "a = input(\"Enter the Value of a\")  # By Default it take user input as string"
   ]
  },
  {
   "cell_type": "code",
   "execution_count": 54,
   "id": "9fe58f58-9e24-446d-9468-c3b7962cc8dd",
   "metadata": {},
   "outputs": [
    {
     "data": {
      "text/plain": [
       "'21'"
      ]
     },
     "execution_count": 54,
     "metadata": {},
     "output_type": "execute_result"
    }
   ],
   "source": [
    "a"
   ]
  },
  {
   "cell_type": "code",
   "execution_count": 57,
   "id": "320cbb4a-101e-4e48-8033-fc95315eb2e4",
   "metadata": {},
   "outputs": [
    {
     "name": "stdin",
     "output_type": "stream",
     "text": [
      "Enter ur mail Id:-  221\n"
     ]
    }
   ],
   "source": [
    "b = input (\"Enter ur mail Id:- \")"
   ]
  },
  {
   "cell_type": "code",
   "execution_count": 59,
   "id": "e5d5ac07-1974-4191-a7b1-965775cafae8",
   "metadata": {},
   "outputs": [
    {
     "data": {
      "text/plain": [
       "'221'"
      ]
     },
     "execution_count": 59,
     "metadata": {},
     "output_type": "execute_result"
    }
   ],
   "source": [
    "b "
   ]
  },
  {
   "cell_type": "code",
   "execution_count": 63,
   "id": "3b7caa69-4984-4ad1-9333-3d493132c6da",
   "metadata": {},
   "outputs": [
    {
     "data": {
      "text/plain": [
       "242"
      ]
     },
     "execution_count": 63,
     "metadata": {},
     "output_type": "execute_result"
    }
   ],
   "source": [
    "int(a) + int(b)"
   ]
  },
  {
   "cell_type": "code",
   "execution_count": 65,
   "id": "80abf68f-d4d6-43b8-a9be-bd3e3c48de24",
   "metadata": {},
   "outputs": [
    {
     "name": "stdin",
     "output_type": "stream",
     "text": [
      "Enter the Value: - 21\n",
      "Enter the Value: - 24\n"
     ]
    }
   ],
   "source": [
    " c = int(input(\"Enter the Value: -\"))\n",
    " d = int(input(\"Enter the Value: -\"))"
   ]
  },
  {
   "cell_type": "code",
   "execution_count": 67,
   "id": "86b1e4e7-031d-478a-909a-bca214c742ed",
   "metadata": {},
   "outputs": [
    {
     "data": {
      "text/plain": [
       "21"
      ]
     },
     "execution_count": 67,
     "metadata": {},
     "output_type": "execute_result"
    }
   ],
   "source": [
    "c"
   ]
  },
  {
   "cell_type": "code",
   "execution_count": 69,
   "id": "d1a03240-ff81-4fde-b973-717a26af0913",
   "metadata": {},
   "outputs": [
    {
     "data": {
      "text/plain": [
       "24"
      ]
     },
     "execution_count": 69,
     "metadata": {},
     "output_type": "execute_result"
    }
   ],
   "source": [
    "d"
   ]
  },
  {
   "cell_type": "code",
   "execution_count": 71,
   "id": "47e0637b-9c29-4d47-8ad9-c487f67817f3",
   "metadata": {},
   "outputs": [
    {
     "data": {
      "text/plain": [
       "45"
      ]
     },
     "execution_count": 71,
     "metadata": {},
     "output_type": "execute_result"
    }
   ],
   "source": [
    "c + d"
   ]
  },
  {
   "cell_type": "code",
   "execution_count": null,
   "id": "7ee82ade-15c2-43dd-8ba1-0eaf2cdc9df0",
   "metadata": {},
   "outputs": [],
   "source": []
  }
 ],
 "metadata": {
  "kernelspec": {
   "display_name": "Python [conda env:base] *",
   "language": "python",
   "name": "conda-base-py"
  },
  "language_info": {
   "codemirror_mode": {
    "name": "ipython",
    "version": 3
   },
   "file_extension": ".py",
   "mimetype": "text/x-python",
   "name": "python",
   "nbconvert_exporter": "python",
   "pygments_lexer": "ipython3",
   "version": "3.12.7"
  }
 },
 "nbformat": 4,
 "nbformat_minor": 5
}
