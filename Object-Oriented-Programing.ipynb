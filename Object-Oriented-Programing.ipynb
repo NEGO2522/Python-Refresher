{
 "cells": [
  {
   "cell_type": "markdown",
   "id": "e34d037b-e94c-4728-9fb5-594d4bc0b507",
   "metadata": {},
   "source": [
    "# OOP's in Python (Object Oriented Programing)"
   ]
  },
  {
   "cell_type": "markdown",
   "id": "9589b178-017b-4b80-ba95-6979d9f90110",
   "metadata": {},
   "source": [
    "\n",
    "### Defining a Class and Creating an Object \n",
    "<b>Creating a Class</b>"
   ]
  },
  {
   "cell_type": "code",
   "execution_count": 13,
   "id": "d0698424-a892-4509-af49-0660b344a9ba",
   "metadata": {},
   "outputs": [
    {
     "name": "stdout",
     "output_type": "stream",
     "text": [
      "Bugati Chiron\n"
     ]
    }
   ],
   "source": [
    "class car:\n",
    "    def __init__(self,brand,model):\n",
    "        self.brand = brand # attribute \n",
    "        self.model = model # attribute \n",
    "    def display_info(self):\n",
    "        return f\"{self.brand} {self.model}\"\n",
    "\n",
    "# Creating an object \n",
    "car1 = car(\"Bugati\",\"Chiron\")\n",
    "print(car1.display_info())"
   ]
  },
  {
   "cell_type": "markdown",
   "id": "9c2c79ff-e451-4732-9abb-dd78383441fd",
   "metadata": {},
   "source": [
    "### Encapsulation (Data Hiding)\n",
    "Prevent data modification of attribute and allows controlled access using getter and setter methods."
   ]
  },
  {
   "cell_type": "code",
   "execution_count": 24,
   "id": "85ebb8ad-7df5-4472-bbc2-16a505fdad39",
   "metadata": {},
   "outputs": [
    {
     "name": "stdout",
     "output_type": "stream",
     "text": [
      "7000\n"
     ]
    }
   ],
   "source": [
    "class BankAccount:\n",
    "    def __init__(self,balance):\n",
    "        self.__balance = balance # Private attribut\n",
    "    def get_balance(self): # Getter\n",
    "        return self.__balance\n",
    "    def deposit(self, amount): # Setter\n",
    "        if amount> 0:\n",
    "            self .__balance += amount\n",
    "\n",
    "# Using encapuslation\n",
    "account = BankAccount(2000)\n",
    "account.deposit(5000)\n",
    "print(account.get_balance()) # 7000\n",
    "    "
   ]
  },
  {
   "cell_type": "markdown",
   "id": "08d4f7c5-6715-4f2e-8426-4aa694ffa00e",
   "metadata": {},
   "source": [
    "### Inheritance(Reusing code)\n",
    "Inheritance allows a class (child) to inherit attributes and methods from another class (parent)."
   ]
  },
  {
   "cell_type": "code",
   "execution_count": 28,
   "id": "b6b8bc0e-53a3-42b6-9d45-bb1c6faf4ef5",
   "metadata": {},
   "outputs": [
    {
     "name": "stdout",
     "output_type": "stream",
     "text": [
      "Bark\n"
     ]
    }
   ],
   "source": [
    "class Animal:\n",
    "    def speak(self):\n",
    "        return \"Animal Makes a sound\"\n",
    "class Dog(Animal): # Inheritting from animal\n",
    "    def speak(self):\n",
    "        return \"Bark\"\n",
    "\n",
    "dog = Dog()\n",
    "print(dog.speak())"
   ]
  },
  {
   "cell_type": "markdown",
   "id": "6322767c-eff7-46b4-9bfc-069b0f45dd30",
   "metadata": {},
   "source": [
    "### Multiple Inheritance\n",
    "A class can inherit from multiple parent classes."
   ]
  },
  {
   "cell_type": "code",
   "execution_count": 39,
   "id": "51bc4b1f-6bc6-4aa0-97bb-46747791d62c",
   "metadata": {},
   "outputs": [
    {
     "name": "stdout",
     "output_type": "stream",
     "text": [
      "Method A\n",
      "Method B\n"
     ]
    }
   ],
   "source": [
    "class A:\n",
    "    def method_a(self):\n",
    "        return \"Method A\"\n",
    "class B:\n",
    "    def method_b(self):\n",
    "        return \"Method B\"\n",
    "class C(A,B): # Multiple Inheritance\n",
    "    pass\n",
    "\n",
    "obj = C()\n",
    "print(obj.method_a())\n",
    "print(obj.method_b())"
   ]
  },
  {
   "cell_type": "markdown",
   "id": "ad4a6784-f827-4b23-a8e3-09a0375bf422",
   "metadata": {},
   "source": [
    "### Polymorphism (Same Method, Different Behavior)\n",
    "Polymorphism allows different classes to use the same method name"
   ]
  },
  {
   "cell_type": "code",
   "execution_count": 46,
   "id": "482d8f0d-dfb9-47ca-bedc-5a787f45bf87",
   "metadata": {},
   "outputs": [
    {
     "name": "stdout",
     "output_type": "stream",
     "text": [
      "Birds can fly\n",
      "Penguins cannot fly\n"
     ]
    }
   ],
   "source": [
    "class Bird:\n",
    "    def fly(self):\n",
    "        return \"Birds can fly\"\n",
    "\n",
    "class Penguin(Bird):\n",
    "    def fly(self):\n",
    "            return \"Penguins cannot fly\"\n",
    "\n",
    "bird = Bird()\n",
    "penguin = Penguin()\n",
    "print(bird.fly())\n",
    "print(penguin.fly())"
   ]
  },
  {
   "cell_type": "markdown",
   "id": "a38b18f4-5e0f-48ca-8f81-3f1e93b73f27",
   "metadata": {},
   "source": [
    "### Abstraction (Hiding Implementation Details)\n",
    "Abstraction is used to define a method without implementing it in the base class.\n",
    "It is achieved using abstract base classes (ABC module)."
   ]
  },
  {
   "cell_type": "code",
   "execution_count": 53,
   "id": "405d494f-b778-4d63-b637-76ac48908647",
   "metadata": {},
   "outputs": [
    {
     "name": "stdout",
     "output_type": "stream",
     "text": [
      "16\n"
     ]
    }
   ],
   "source": [
    "from abc import ABC, abstractmethod \n",
    "class shape(ABC):\n",
    "    @abstractmethod\n",
    "    def area(self):\n",
    "        pass # No implementation\n",
    "class Square(shape):\n",
    "    def __init__(self,side):\n",
    "        self.side = side\n",
    "    def area(self):\n",
    "        return self. side * self. side # Implemented in child class.\n",
    "square = Square(4)\n",
    "print(square.area())"
   ]
  },
  {
   "cell_type": "markdown",
   "id": "e431ec9b-0fca-47e3-ba65-5d19eccbee6b",
   "metadata": {},
   "source": [
    "### Magic Methods (Dunder Methods)\n",
    "Magic methods allow objects to behave like built-in types."
   ]
  },
  {
   "cell_type": "code",
   "execution_count": 56,
   "id": "6d8b6dce-bda0-4ea8-b26b-c98f27bef176",
   "metadata": {},
   "outputs": [
    {
     "name": "stdout",
     "output_type": "stream",
     "text": [
      "Book: Python Basics\n",
      "300\n"
     ]
    }
   ],
   "source": [
    "class Book:\n",
    "    def __init__(self, title, pages):\n",
    "        self.title = title\n",
    "        self.pages = pages\n",
    " \n",
    "    def __str__(self):  # String representation\n",
    "        return f\"Book: {self.title}\"\n",
    " \n",
    "    def __len__(self):  # Define behavior for len()\n",
    "        return self.pages\n",
    " \n",
    "book = Book(\"Python Basics\", 300)\n",
    "print(str(book))  # Output: Book: Python Basics\n",
    "print(len(book))  # Output: 300"
   ]
  },
  {
   "cell_type": "code",
   "execution_count": null,
   "id": "2737a461-951f-4d12-8fd9-9f8473d9baa2",
   "metadata": {},
   "outputs": [],
   "source": []
  }
 ],
 "metadata": {
  "kernelspec": {
   "display_name": "Python [conda env:base] *",
   "language": "python",
   "name": "conda-base-py"
  },
  "language_info": {
   "codemirror_mode": {
    "name": "ipython",
    "version": 3
   },
   "file_extension": ".py",
   "mimetype": "text/x-python",
   "name": "python",
   "nbconvert_exporter": "python",
   "pygments_lexer": "ipython3",
   "version": "3.12.7"
  }
 },
 "nbformat": 4,
 "nbformat_minor": 5
}
