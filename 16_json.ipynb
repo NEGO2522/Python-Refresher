{
 "cells": [
  {
   "cell_type": "markdown",
   "id": "c0560d67-3f84-4fc8-95d3-1e0898c38ee1",
   "metadata": {},
   "source": [
    "# Python json Module - Working with JSON Data."
   ]
  },
  {
   "cell_type": "markdown",
   "id": "33034d55-d1f0-4fe9-ab9b-5b7d8693e3e0",
   "metadata": {},
   "source": [
    "### What is JSON?\n",
    "\n",
    "JSON(JavaScript Object Notation) is a lightweight data format used for exchanging data between servers and applications. It is widely used in APIs, web Applications, and configurations. \n",
    "\n",
    "Python provides the JSON module to work with JSON data."
   ]
  },
  {
   "cell_type": "markdown",
   "id": "3be03121-3e06-46a1-9a35-0cbec73c5874",
   "metadata": {},
   "source": [
    "---"
   ]
  },
  {
   "cell_type": "markdown",
   "id": "9d8bd0c1-2b66-42e6-93f2-26b9cfc22806",
   "metadata": {},
   "source": [
    "## Importing the JSON Module"
   ]
  },
  {
   "cell_type": "code",
   "execution_count": 8,
   "id": "61a45de7-992b-4135-be41-658021496b6d",
   "metadata": {},
   "outputs": [],
   "source": [
    "import json"
   ]
  },
  {
   "cell_type": "markdown",
   "id": "27491a7c-7134-4786-8ef6-8fcd3787eb33",
   "metadata": {},
   "source": [
    "---"
   ]
  },
  {
   "cell_type": "markdown",
   "id": "da854a3b-53d7-4a79-a475-8209a34c8c8b",
   "metadata": {},
   "source": [
    "## Converting Python Object to JSON(Serialization)\n",
    "\n",
    "Serialization (also called encoding or dumping) is converting a Python object into JSON-formatted string."
   ]
  },
  {
   "cell_type": "markdown",
   "id": "f73cc0a2-67bc-4613-b154-6252d1605203",
   "metadata": {},
   "source": [
    "json.dumps() - Convert Python object to JSON string."
   ]
  },
  {
   "cell_type": "code",
   "execution_count": 15,
   "id": "7793bbce-a15c-4e5d-a612-d030ba0a5738",
   "metadata": {},
   "outputs": [
    {
     "name": "stdout",
     "output_type": "stream",
     "text": [
      "{\"name\": \"Kshitij\", \"age\": \"21\", \"city\": \"Jaipur\"}\n",
      "<class 'str'>\n"
     ]
    }
   ],
   "source": [
    "import json \n",
    "\n",
    "data = {\"name\":\"Kshitij\",\"age\":\"21\",\"city\":\"Jaipur\"}\n",
    "\n",
    "json_string = json.dumps(data)\n",
    "print(json_string)\n",
    "print(type(json_string)) # <class 'str'>"
   ]
  },
  {
   "cell_type": "markdown",
   "id": "cf28a304-66ed-495b-a8dd-995d14a84281",
   "metadata": {},
   "source": [
    "json.dump() - Write JSON data to a file."
   ]
  },
  {
   "cell_type": "code",
   "execution_count": 20,
   "id": "0f9fc1a0-9a55-4552-93bf-17535614461c",
   "metadata": {},
   "outputs": [],
   "source": [
    "with open(\"data.json\", \"w\") as file:\n",
    "    json.dump(data,file)"
   ]
  },
  {
   "cell_type": "markdown",
   "id": "a532ed0f-1c94-48cf-aae0-0c6ecf7139e1",
   "metadata": {},
   "source": [
    "## Converting JSON to Python Object (Deserialization)\n",
    "\n",
    "Deserialization(also called decoding or loading) is converting JSON-formatted data into Python objects.\n",
    "\n",
    "json.loads() - Convert JSON string to Python object "
   ]
  },
  {
   "cell_type": "code",
   "execution_count": 27,
   "id": "2a5862a1-6938-4d88-a97c-bfcbde31b789",
   "metadata": {},
   "outputs": [
    {
     "name": "stdout",
     "output_type": "stream",
     "text": [
      "{'name': 'Kshitij', 'age': '18', 'city': 'Jaipur'}\n",
      "<class 'dict'>\n"
     ]
    }
   ],
   "source": [
    "json_data = '{\"name\": \"Kshitij\",\"age\": \"18\",\"city\":\"Jaipur\"}'\n",
    "\n",
    "python_obj = json.loads(json_data)\n",
    "print(python_obj)\n",
    "print(type(python_obj)) #<class 'dict'>"
   ]
  },
  {
   "cell_type": "markdown",
   "id": "f2c57081-0f2d-4f58-b4c1-abc5731587bb",
   "metadata": {},
   "source": [
    "json.load() - Reas JSON data from a file "
   ]
  },
  {
   "cell_type": "code",
   "execution_count": 36,
   "id": "1af4604a-dd04-4475-af20-a9d4ff6ec882",
   "metadata": {},
   "outputs": [
    {
     "name": "stdout",
     "output_type": "stream",
     "text": [
      "{'name': 'Kshitij', 'age': '21', 'city': 'Jaipur'}\n"
     ]
    }
   ],
   "source": [
    "with open(\"data.json\", \"r\") as file:\n",
    "    python_data =json.load(file)\n",
    "print(python_data )"
   ]
  },
  {
   "cell_type": "markdown",
   "id": "c93f306c-9513-4c1a-a69b-b1268af36e1c",
   "metadata": {},
   "source": [
    " ### Formatting JSON Output "
   ]
  },
  {
   "cell_type": "markdown",
   "id": "3f2bafd4-0c05-431d-ba2e-939f0daced73",
   "metadata": {},
   "source": [
    "You can format JSON for better readability using indentation."
   ]
  },
  {
   "cell_type": "code",
   "execution_count": 41,
   "id": "83bbd3ff-fb02-423b-a609-634b9838ea49",
   "metadata": {},
   "outputs": [
    {
     "name": "stdout",
     "output_type": "stream",
     "text": [
      "{\n",
      "    \"name\": \"Kshitij\",\n",
      "    \"age\": \"21\",\n",
      "    \"city\": \"Jaipur\"\n",
      "}\n"
     ]
    }
   ],
   "source": [
    "formatted_json = json.dumps(data, indent=4)\n",
    "print(formatted_json)"
   ]
  },
  {
   "cell_type": "markdown",
   "id": "a437e75c-3b47-4883-bf7e-78cb4b72ebbd",
   "metadata": {},
   "source": [
    "### Some Examples are:"
   ]
  },
  {
   "cell_type": "code",
   "execution_count": 54,
   "id": "5e7d3c03-5108-4d0a-aa9e-1742dc44e03a",
   "metadata": {},
   "outputs": [
    {
     "name": "stdout",
     "output_type": "stream",
     "text": [
      "{\"name\": \"Harry\", \"Company\": \"IBM\", \"Salary\": 250000}\n"
     ]
    }
   ],
   "source": [
    "import json \n",
    "obj = {\"name\": \"Harry\", \"Company\": \"IBM\", \"Salary\":250000} # convert this into a JSON string. \n",
    "s = json.dumps(obj)\n",
    "print(s)\n"
   ]
  },
  {
   "cell_type": "code",
   "execution_count": 68,
   "id": "f763db86-aebb-4f75-9ce0-d252ff99f5ee",
   "metadata": {},
   "outputs": [
    {
     "name": "stdout",
     "output_type": "stream",
     "text": [
      "{'name': 'Harry', 'Company': 'IBM', 'Salary': 250000}\n",
      "<class 'dict'>\n"
     ]
    }
   ],
   "source": [
    "# convert this into a Python object \n",
    "\n",
    "d = json.loads('{\"name\": \"Harry\", \"Company\": \"IBM\", \"Salary\":250000}')\n",
    "print(d)\n",
    "print(type(d))"
   ]
  },
  {
   "cell_type": "code",
   "execution_count": 74,
   "id": "e5b01dbb-a462-4793-acc5-2c0de6cb59e6",
   "metadata": {},
   "outputs": [],
   "source": [
    "file = open(\"kshitij.json\", \"w\")\n",
    "json.dump(obj, file)\n",
    "file.close()"
   ]
  },
  {
   "cell_type": "code",
   "execution_count": null,
   "id": "65dd81cf-f36b-4cb8-aea9-cd5fc94c08fd",
   "metadata": {},
   "outputs": [],
   "source": []
  }
 ],
 "metadata": {
  "kernelspec": {
   "display_name": "Python [conda env:base] *",
   "language": "python",
   "name": "conda-base-py"
  },
  "language_info": {
   "codemirror_mode": {
    "name": "ipython",
    "version": 3
   },
   "file_extension": ".py",
   "mimetype": "text/x-python",
   "name": "python",
   "nbconvert_exporter": "python",
   "pygments_lexer": "ipython3",
   "version": "3.12.7"
  }
 },
 "nbformat": 4,
 "nbformat_minor": 5
}
