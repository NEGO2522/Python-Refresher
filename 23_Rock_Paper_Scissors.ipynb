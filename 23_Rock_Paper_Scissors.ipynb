{
 "cells": [
  {
   "cell_type": "markdown",
   "id": "ebd4a776-9aa9-437c-9f65-6b8d182086a5",
   "metadata": {},
   "source": [
    "## Create Rock, Paper, Scissor Game Using Random Module in Python "
   ]
  },
  {
   "cell_type": "code",
   "execution_count": null,
   "id": "a682225f-850c-4880-9a85-b2f4760b9f4b",
   "metadata": {},
   "outputs": [],
   "source": [
    "import random"
   ]
  },
  {
   "cell_type": "code",
   "execution_count": null,
   "id": "ada56b79-564d-4942-be57-ac7fdd1fbcae",
   "metadata": {},
   "outputs": [],
   "source": [
    "l = [\"rock\",\"scissor\",\"paper\"]"
   ]
  },
  {
   "cell_type": "code",
   "execution_count": null,
   "id": "48953a02-5feb-4696-9d4f-ffcb9ecc618c",
   "metadata": {},
   "outputs": [],
   "source": [
    "'''\n",
    "Rock vs Paper -> Paper wins\n",
    "Rock vs Scissors -> Rock wins\n",
    "Paper vs Scissors -> Scissors wins\n",
    "'''"
   ]
  },
  {
   "cell_type": "code",
   "execution_count": null,
   "id": "42eb3ed1-e013-45ad-b37c-b11bacd878cd",
   "metadata": {},
   "outputs": [],
   "source": [
    "while True:\n",
    "    uc = int(input('''\n",
    "Game Start.....\n",
    "1 Yes\n",
    "2 No | Exit \n",
    "    '''))\n",
    "    \n",
    "    if uc == 1:\n",
    "        for a in range(1, 6):\n",
    "            userInput = int(input('''\n",
    "1. Rock \n",
    "2. Scissors\n",
    "3. Paper\n",
    "            '''))\n",
    "            \n",
    "            if userInput == 1:\n",
    "                uchoice = \"rock\"\n",
    "            elif userInput == 2:\n",
    "                uchoice = \"scissors\"\n",
    "            elif userInput == 3:\n",
    "                uchoice = \"paper\"\n",
    "            else:\n",
    "                uchoice = \"Invalid\" \n",
    "            Cchoice = random.choice(l)\n",
    "\n",
    "            print(f\"Your choice: {uchoice}\")\n",
    "            print(f\"Computer's choice: {Cchoice}\")\n",
    "\n",
    "\n",
    "    else:\n",
    "        break"
   ]
  },
  {
   "cell_type": "code",
   "execution_count": null,
   "id": "18c3c78d-8cdf-4e19-babb-79cd47176161",
   "metadata": {},
   "outputs": [],
   "source": []
  }
 ],
 "metadata": {
  "kernelspec": {
   "display_name": "Python 3 (ipykernel)",
   "language": "python",
   "name": "python3"
  },
  "language_info": {
   "codemirror_mode": {
    "name": "ipython",
    "version": 3
   },
   "file_extension": ".py",
   "mimetype": "text/x-python",
   "name": "python",
   "nbconvert_exporter": "python",
   "pygments_lexer": "ipython3",
   "version": "3.13.3"
  }
 },
 "nbformat": 4,
 "nbformat_minor": 5
}
