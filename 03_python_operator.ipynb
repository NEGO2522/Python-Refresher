{
 "cells": [
  {
   "cell_type": "markdown",
   "id": "f0e74619-4047-4bb9-9f4b-2c4aa163a594",
   "metadata": {},
   "source": [
    "# Operators in Python"
   ]
  },
  {
   "cell_type": "markdown",
   "id": "bac43938-df86-4f87-a9ef-b1f96c8410d0",
   "metadata": {},
   "source": [
    "![Operator In Python](image.png)"
   ]
  },
  {
   "cell_type": "markdown",
   "id": "0fb81466-de6d-47fe-b182-9dcccb79889f",
   "metadata": {},
   "source": [
    "## Airthmetic Operators"
   ]
  },
  {
   "cell_type": "code",
   "execution_count": 5,
   "id": "ec82cabe-4035-4971-8908-54be649f5ef1",
   "metadata": {},
   "outputs": [],
   "source": [
    "a = 10  # Airthmetic Operators\n",
    "b = 5 "
   ]
  },
  {
   "cell_type": "code",
   "execution_count": 6,
   "id": "c0146688-99fe-4f58-b4ee-227d3d3b7b38",
   "metadata": {},
   "outputs": [
    {
     "data": {
      "text/plain": [
       "15"
      ]
     },
     "execution_count": 6,
     "metadata": {},
     "output_type": "execute_result"
    }
   ],
   "source": [
    "a + b "
   ]
  },
  {
   "cell_type": "code",
   "execution_count": 7,
   "id": "b7f3f094-a5a3-404b-b03e-08e68619cf95",
   "metadata": {},
   "outputs": [
    {
     "data": {
      "text/plain": [
       "5"
      ]
     },
     "execution_count": 7,
     "metadata": {},
     "output_type": "execute_result"
    }
   ],
   "source": [
    "a - b "
   ]
  },
  {
   "cell_type": "code",
   "execution_count": 8,
   "id": "d98a193f-b566-4bbb-8b45-c8071693582d",
   "metadata": {},
   "outputs": [
    {
     "data": {
      "text/plain": [
       "50"
      ]
     },
     "execution_count": 8,
     "metadata": {},
     "output_type": "execute_result"
    }
   ],
   "source": [
    "a * b"
   ]
  },
  {
   "cell_type": "code",
   "execution_count": 9,
   "id": "f07c6bc4-1e43-46a7-8749-51dbeeb73228",
   "metadata": {},
   "outputs": [
    {
     "data": {
      "text/plain": [
       "2.0"
      ]
     },
     "execution_count": 9,
     "metadata": {},
     "output_type": "execute_result"
    }
   ],
   "source": [
    "a / b "
   ]
  },
  {
   "cell_type": "code",
   "execution_count": 10,
   "id": "0d03afb9-2388-4dfb-ad46-ee38f0a9dac5",
   "metadata": {},
   "outputs": [
    {
     "data": {
      "text/plain": [
       "2"
      ]
     },
     "execution_count": 10,
     "metadata": {},
     "output_type": "execute_result"
    }
   ],
   "source": [
    "a // b # floor divison(quotient)"
   ]
  },
  {
   "cell_type": "code",
   "execution_count": 11,
   "id": "45841dcf-0141-4020-952c-059bcc87b82e",
   "metadata": {},
   "outputs": [
    {
     "data": {
      "text/plain": [
       "0"
      ]
     },
     "execution_count": 11,
     "metadata": {},
     "output_type": "execute_result"
    }
   ],
   "source": [
    "a % b  # modulus(remainder)"
   ]
  },
  {
   "cell_type": "code",
   "execution_count": 12,
   "id": "7745e7e6-1a6f-4b4a-99b8-304547cf0350",
   "metadata": {},
   "outputs": [
    {
     "data": {
      "text/plain": [
       "100000"
      ]
     },
     "execution_count": 12,
     "metadata": {},
     "output_type": "execute_result"
    }
   ],
   "source": [
    "a ** b # Exponentiation"
   ]
  },
  {
   "cell_type": "markdown",
   "id": "ee901caf-2c6b-446f-be86-05eaad0b1fe0",
   "metadata": {},
   "source": [
    "## Comparision Operator"
   ]
  },
  {
   "cell_type": "code",
   "execution_count": 14,
   "id": "68da0859-7960-4931-9238-f9fc93566495",
   "metadata": {},
   "outputs": [],
   "source": [
    "a = 10\n",
    "b = 5 # Comparision Operators "
   ]
  },
  {
   "cell_type": "code",
   "execution_count": 15,
   "id": "872db808-742a-4102-a385-e1692025b511",
   "metadata": {},
   "outputs": [
    {
     "data": {
      "text/plain": [
       "True"
      ]
     },
     "execution_count": 15,
     "metadata": {},
     "output_type": "execute_result"
    }
   ],
   "source": [
    "a > b "
   ]
  },
  {
   "cell_type": "code",
   "execution_count": 16,
   "id": "4d0f3913-e7e6-4d58-a221-f597ba8306f4",
   "metadata": {},
   "outputs": [
    {
     "data": {
      "text/plain": [
       "False"
      ]
     },
     "execution_count": 16,
     "metadata": {},
     "output_type": "execute_result"
    }
   ],
   "source": [
    "a < b "
   ]
  },
  {
   "cell_type": "code",
   "execution_count": 17,
   "id": "51223e2f-f31f-49db-b350-371d34941fb5",
   "metadata": {},
   "outputs": [
    {
     "data": {
      "text/plain": [
       "True"
      ]
     },
     "execution_count": 17,
     "metadata": {},
     "output_type": "execute_result"
    }
   ],
   "source": [
    "a >= b "
   ]
  },
  {
   "cell_type": "code",
   "execution_count": 18,
   "id": "50ce439e-8f52-4a26-ad31-67bcdc508b3c",
   "metadata": {},
   "outputs": [
    {
     "data": {
      "text/plain": [
       "False"
      ]
     },
     "execution_count": 18,
     "metadata": {},
     "output_type": "execute_result"
    }
   ],
   "source": [
    "a <= b "
   ]
  },
  {
   "cell_type": "code",
   "execution_count": 19,
   "id": "e3860518-61f7-4189-9d9c-470a009fb1f3",
   "metadata": {},
   "outputs": [
    {
     "data": {
      "text/plain": [
       "False"
      ]
     },
     "execution_count": 19,
     "metadata": {},
     "output_type": "execute_result"
    }
   ],
   "source": [
    "a == b "
   ]
  },
  {
   "cell_type": "code",
   "execution_count": 20,
   "id": "75e11c6a-7871-4159-a206-bf718baa81eb",
   "metadata": {},
   "outputs": [
    {
     "data": {
      "text/plain": [
       "True"
      ]
     },
     "execution_count": 20,
     "metadata": {},
     "output_type": "execute_result"
    }
   ],
   "source": [
    "a != b "
   ]
  },
  {
   "cell_type": "markdown",
   "id": "12104bb4-33ad-45cb-866d-f092d2be48ab",
   "metadata": {},
   "source": [
    "## Logical Operator"
   ]
  },
  {
   "cell_type": "code",
   "execution_count": 22,
   "id": "a34f3218-2a76-4310-a93b-dd4b8b4aed8e",
   "metadata": {},
   "outputs": [],
   "source": [
    " x = True \n",
    " y = False  # Logical Operator"
   ]
  },
  {
   "cell_type": "code",
   "execution_count": 23,
   "id": "eca722ee-1d12-4b27-bed4-01e64040954f",
   "metadata": {},
   "outputs": [
    {
     "data": {
      "text/plain": [
       "False"
      ]
     },
     "execution_count": 23,
     "metadata": {},
     "output_type": "execute_result"
    }
   ],
   "source": [
    "x and y "
   ]
  },
  {
   "cell_type": "code",
   "execution_count": 24,
   "id": "8944619a-a522-4bd6-ba80-7a4b1a490c5e",
   "metadata": {},
   "outputs": [
    {
     "data": {
      "text/plain": [
       "True"
      ]
     },
     "execution_count": 24,
     "metadata": {},
     "output_type": "execute_result"
    }
   ],
   "source": [
    "x or y "
   ]
  },
  {
   "cell_type": "code",
   "execution_count": 25,
   "id": "be0266a5-0c4e-49c2-88a3-50c03486c7a1",
   "metadata": {},
   "outputs": [
    {
     "data": {
      "text/plain": [
       "False"
      ]
     },
     "execution_count": 25,
     "metadata": {},
     "output_type": "execute_result"
    }
   ],
   "source": [
    "not x "
   ]
  },
  {
   "cell_type": "code",
   "execution_count": 26,
   "id": "f8b77872-b2bb-4961-be0e-23c423cf7b99",
   "metadata": {},
   "outputs": [
    {
     "data": {
      "text/plain": [
       "True"
      ]
     },
     "execution_count": 26,
     "metadata": {},
     "output_type": "execute_result"
    }
   ],
   "source": [
    "not y "
   ]
  },
  {
   "cell_type": "markdown",
   "id": "5589e684-5fcf-4704-b05e-2207122604b0",
   "metadata": {},
   "source": [
    "## Bitwise Operator"
   ]
  },
  {
   "cell_type": "code",
   "execution_count": 28,
   "id": "1676bd28-bcaf-4f82-83f9-5f98a0cc9d85",
   "metadata": {},
   "outputs": [],
   "source": [
    "c = 5 # Bitwise Operator \n",
    "d = 3 "
   ]
  },
  {
   "cell_type": "code",
   "execution_count": 29,
   "id": "1fa99c85-52f7-416f-a0ce-5fc9b230c11d",
   "metadata": {},
   "outputs": [
    {
     "data": {
      "text/plain": [
       "1"
      ]
     },
     "execution_count": 29,
     "metadata": {},
     "output_type": "execute_result"
    }
   ],
   "source": [
    "c & d  # AND symbol"
   ]
  },
  {
   "cell_type": "code",
   "execution_count": 30,
   "id": "2fa12948-3bee-4ea6-9ad4-d796d510082b",
   "metadata": {},
   "outputs": [
    {
     "data": {
      "text/plain": [
       "7"
      ]
     },
     "execution_count": 30,
     "metadata": {},
     "output_type": "execute_result"
    }
   ],
   "source": [
    "c | d # OR symbol"
   ]
  },
  {
   "cell_type": "markdown",
   "id": "a0cf6915-194e-49b1-8f63-74f4ff4880a1",
   "metadata": {},
   "source": [
    "## Assignment Operator "
   ]
  },
  {
   "cell_type": "code",
   "execution_count": 32,
   "id": "7420bb12-adff-46c2-9633-5f996fe5e4bd",
   "metadata": {},
   "outputs": [],
   "source": [
    "i = 10  # Assignment Operator "
   ]
  },
  {
   "cell_type": "code",
   "execution_count": 33,
   "id": "1827f2a1-6dd5-4ad9-8b25-f214800609f8",
   "metadata": {},
   "outputs": [],
   "source": [
    "i = 10 # Equal to "
   ]
  },
  {
   "cell_type": "code",
   "execution_count": 34,
   "id": "10e0b3bd-273f-4eb8-aa39-e186752c88b4",
   "metadata": {},
   "outputs": [
    {
     "data": {
      "text/plain": [
       "15"
      ]
     },
     "execution_count": 34,
     "metadata": {},
     "output_type": "execute_result"
    }
   ],
   "source": [
    "i += 5 \n",
    "i"
   ]
  },
  {
   "cell_type": "code",
   "execution_count": 35,
   "id": "cbcf51b3-43a2-47b7-b359-169c958debb7",
   "metadata": {},
   "outputs": [
    {
     "data": {
      "text/plain": [
       "10"
      ]
     },
     "execution_count": 35,
     "metadata": {},
     "output_type": "execute_result"
    }
   ],
   "source": [
    "i -= 5 \n",
    "i "
   ]
  },
  {
   "cell_type": "code",
   "execution_count": 36,
   "id": "cbe3a847-a03d-47bc-a707-17430cd7b0b7",
   "metadata": {},
   "outputs": [
    {
     "data": {
      "text/plain": [
       "50"
      ]
     },
     "execution_count": 36,
     "metadata": {},
     "output_type": "execute_result"
    }
   ],
   "source": [
    "i *= 5 \n",
    "i "
   ]
  },
  {
   "cell_type": "code",
   "execution_count": 37,
   "id": "f0382180-cd3f-45de-b79d-19b99e440dfb",
   "metadata": {},
   "outputs": [
    {
     "data": {
      "text/plain": [
       "10.0"
      ]
     },
     "execution_count": 37,
     "metadata": {},
     "output_type": "execute_result"
    }
   ],
   "source": [
    "i /=5\n",
    "i "
   ]
  },
  {
   "cell_type": "code",
   "execution_count": 38,
   "id": "48db5a2c-fd9c-43e6-951f-5aba4e9c6090",
   "metadata": {},
   "outputs": [
    {
     "data": {
      "text/plain": [
       "2.0"
      ]
     },
     "execution_count": 38,
     "metadata": {},
     "output_type": "execute_result"
    }
   ],
   "source": [
    "i //5"
   ]
  },
  {
   "cell_type": "code",
   "execution_count": 39,
   "id": "aaba12f3-5e87-4bc4-9ecc-e6bd92b41671",
   "metadata": {},
   "outputs": [
    {
     "data": {
      "text/plain": [
       "0.0"
      ]
     },
     "execution_count": 39,
     "metadata": {},
     "output_type": "execute_result"
    }
   ],
   "source": [
    "i %=5\n",
    "i"
   ]
  },
  {
   "cell_type": "markdown",
   "id": "874cc0c4-de2e-47c7-85c4-0081c2a4cb03",
   "metadata": {},
   "source": [
    "## Membership and Identity Operator "
   ]
  },
  {
   "cell_type": "code",
   "execution_count": 41,
   "id": "803ae555-9a4a-4a47-9137-dde9d507a55a",
   "metadata": {},
   "outputs": [],
   "source": [
    "m = [1,2,3]\n",
    "r = 2  # Membership Operator "
   ]
  },
  {
   "cell_type": "code",
   "execution_count": 42,
   "id": "933daf7c-dd92-4e83-9847-b4be205af318",
   "metadata": {},
   "outputs": [
    {
     "data": {
      "text/plain": [
       "True"
      ]
     },
     "execution_count": 42,
     "metadata": {},
     "output_type": "execute_result"
    }
   ],
   "source": [
    "r in m "
   ]
  },
  {
   "cell_type": "code",
   "execution_count": 43,
   "id": "c794f0b2-df44-474e-942c-6f3b5e3ae0a4",
   "metadata": {},
   "outputs": [
    {
     "data": {
      "text/plain": [
       "False"
      ]
     },
     "execution_count": 43,
     "metadata": {},
     "output_type": "execute_result"
    }
   ],
   "source": [
    "r not in m "
   ]
  },
  {
   "cell_type": "code",
   "execution_count": 44,
   "id": "925b8db0-a615-418f-8eaa-f75c8cd34521",
   "metadata": {},
   "outputs": [],
   "source": [
    "m = [1,2,3,4]\n",
    "r = 2 # Identity Operator "
   ]
  },
  {
   "cell_type": "code",
   "execution_count": 45,
   "id": "bd3dad0f-929a-4526-bb1b-d3f0e3db3f47",
   "metadata": {},
   "outputs": [
    {
     "data": {
      "text/plain": [
       "False"
      ]
     },
     "execution_count": 45,
     "metadata": {},
     "output_type": "execute_result"
    }
   ],
   "source": [
    "m is r"
   ]
  },
  {
   "cell_type": "code",
   "execution_count": 46,
   "id": "8c1a85dd-dab8-436f-8acd-6613010c6e69",
   "metadata": {},
   "outputs": [
    {
     "data": {
      "text/plain": [
       "True"
      ]
     },
     "execution_count": 46,
     "metadata": {},
     "output_type": "execute_result"
    }
   ],
   "source": [
    "m is not r"
   ]
  }
 ],
 "metadata": {
  "kernelspec": {
   "display_name": "Python [conda env:base] *",
   "language": "python",
   "name": "conda-base-py"
  },
  "language_info": {
   "codemirror_mode": {
    "name": "ipython",
    "version": 3
   },
   "file_extension": ".py",
   "mimetype": "text/x-python",
   "name": "python",
   "nbconvert_exporter": "python",
   "pygments_lexer": "ipython3",
   "version": "3.12.7"
  }
 },
 "nbformat": 4,
 "nbformat_minor": 5
}
