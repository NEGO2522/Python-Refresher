{
 "cells": [
  {
   "cell_type": "markdown",
   "id": "46db6206-f7fc-4619-a1ca-48f0773c0793",
   "metadata": {},
   "source": [
    "### Random Module"
   ]
  },
  {
   "cell_type": "code",
   "execution_count": 29,
   "id": "0ec2e3d8-f585-47fe-81c0-95b2f73e3b4f",
   "metadata": {},
   "outputs": [],
   "source": [
    "import random"
   ]
  },
  {
   "cell_type": "code",
   "execution_count": 30,
   "id": "d502bac8-bfbe-43ed-8a25-f827b4ba3df9",
   "metadata": {},
   "outputs": [
    {
     "data": {
      "text/plain": [
       "9"
      ]
     },
     "execution_count": 30,
     "metadata": {},
     "output_type": "execute_result"
    }
   ],
   "source": [
    "random.randint(5,10)"
   ]
  },
  {
   "cell_type": "code",
   "execution_count": 31,
   "id": "133dfc1d-184d-42af-8fdc-fe824802b091",
   "metadata": {},
   "outputs": [
    {
     "data": {
      "text/plain": [
       "4"
      ]
     },
     "execution_count": 31,
     "metadata": {},
     "output_type": "execute_result"
    }
   ],
   "source": [
    "random.randrange(3,9)"
   ]
  },
  {
   "cell_type": "code",
   "execution_count": 32,
   "id": "db9a66aa-2ff7-45a4-a6c9-b42fdc2ceac7",
   "metadata": {},
   "outputs": [
    {
     "data": {
      "text/plain": [
       "'apple'"
      ]
     },
     "execution_count": 32,
     "metadata": {},
     "output_type": "execute_result"
    }
   ],
   "source": [
    "l = [\"apple\",\"banana\",\"cherry\"]\n",
    "random.choice(l)"
   ]
  },
  {
   "cell_type": "code",
   "execution_count": 33,
   "id": "bfc16b0c-fb72-4681-9a60-407c110a0434",
   "metadata": {},
   "outputs": [
    {
     "data": {
      "text/plain": [
       "0.5752148549189507"
      ]
     },
     "execution_count": 33,
     "metadata": {},
     "output_type": "execute_result"
    }
   ],
   "source": [
    "random.random()"
   ]
  },
  {
   "cell_type": "code",
   "execution_count": 34,
   "id": "31b795cc-5f98-4577-b65b-8b909b363f4d",
   "metadata": {},
   "outputs": [
    {
     "data": {
      "text/plain": [
       "4.320148969463759"
      ]
     },
     "execution_count": 34,
     "metadata": {},
     "output_type": "execute_result"
    }
   ],
   "source": [
    "random.uniform(2,5)"
   ]
  },
  {
   "cell_type": "code",
   "execution_count": 41,
   "id": "d4161f8d-2151-41f5-a563-03ef413b6d89",
   "metadata": {},
   "outputs": [
    {
     "name": "stdout",
     "output_type": "stream",
     "text": [
      "[20, 40, 10, 30]\n"
     ]
    }
   ],
   "source": [
    "K = [10,20,30,40]\n",
    "random.shuffle(K)\n",
    "print(K)"
   ]
  },
  {
   "cell_type": "raw",
   "id": "e6bd6490-13dd-49b1-8b74-33edb6477af3",
   "metadata": {},
   "source": []
  },
  {
   "cell_type": "code",
   "execution_count": null,
   "id": "48acffff-4da6-40bd-90fe-ccf4b98b94d2",
   "metadata": {},
   "outputs": [],
   "source": []
  }
 ],
 "metadata": {
  "kernelspec": {
   "display_name": "Python 3 (ipykernel)",
   "language": "python",
   "name": "python3"
  },
  "language_info": {
   "codemirror_mode": {
    "name": "ipython",
    "version": 3
   },
   "file_extension": ".py",
   "mimetype": "text/x-python",
   "name": "python",
   "nbconvert_exporter": "python",
   "pygments_lexer": "ipython3",
   "version": "3.13.3"
  }
 },
 "nbformat": 4,
 "nbformat_minor": 5
}
