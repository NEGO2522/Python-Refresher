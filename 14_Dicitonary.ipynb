{
 "cells": [
  {
   "cell_type": "markdown",
   "id": "06283a4a-384a-4c8d-af26-6997be158697",
   "metadata": {},
   "source": [
    "# Dicitonary in Python "
   ]
  },
  {
   "cell_type": "markdown",
   "id": "5fee3eca-0340-4519-95b7-684be3372ac5",
   "metadata": {},
   "source": [
    "A dictionary in Python is an <b>unordered</b>, <b>mutable</b> and <b>key-value</b> pair colllection."
   ]
  },
  {
   "cell_type": "markdown",
   "id": "5d6f9ac4-959b-4305-af5e-ac0ca86a74ac",
   "metadata": {},
   "source": [
    "### Creating a dictionary``"
   ]
  },
  {
   "cell_type": "code",
   "execution_count": 11,
   "id": "f2665c86-ba05-4c36-9c0d-c5ede2c1d7af",
   "metadata": {},
   "outputs": [
    {
     "data": {
      "text/plain": [
       "{'name': 'Kshitij', 'age': 18, 'cgpa': 6.29}"
      ]
     },
     "execution_count": 11,
     "metadata": {},
     "output_type": "execute_result"
    }
   ],
   "source": [
    "# Empty dictionary \n",
    "empty_dict = {}\n",
    "\n",
    "# Dictionary with key-value pairs\n",
    "student = {\n",
    "    \"name\": \"Kshitij\",\n",
    "    \"age\": 18,\n",
    "    \"cgpa\": 6.29\n",
    "}\n",
    "student"
   ]
  },
  {
   "cell_type": "code",
   "execution_count": 15,
   "id": "db8a5b6b-0902-45c8-b4c0-19793b7e4f0c",
   "metadata": {},
   "outputs": [
    {
     "data": {
      "text/plain": [
       "{'name': 'Kshitij', 'age': '18', 'city': 'Jaipur'}"
      ]
     },
     "execution_count": 15,
     "metadata": {},
     "output_type": "execute_result"
    }
   ],
   "source": [
    "# Using dict() constructor.\n",
    "person = dict(name=\"Kshitij\", age =\"18\", city=\"Jaipur\")\n",
    "person"
   ]
  },
  {
   "cell_type": "code",
   "execution_count": 17,
   "id": "30bfdad9-7f6b-45ae-9ae7-5b6b42177a74",
   "metadata": {},
   "outputs": [
    {
     "data": {
      "text/plain": [
       "dict"
      ]
     },
     "execution_count": 17,
     "metadata": {},
     "output_type": "execute_result"
    }
   ],
   "source": [
    "d = {}\n",
    "type(d)"
   ]
  },
  {
   "cell_type": "code",
   "execution_count": 23,
   "id": "7284ed0e-c696-46b5-bf01-4beab84e2a7e",
   "metadata": {},
   "outputs": [
    {
     "data": {
      "text/plain": [
       "'Kshitij'"
      ]
     },
     "execution_count": 23,
     "metadata": {},
     "output_type": "execute_result"
    }
   ],
   "source": [
    "student[\"name\"]"
   ]
  },
  {
   "cell_type": "code",
   "execution_count": 25,
   "id": "d2df5fba-a382-4ce5-92aa-1e8d8b311135",
   "metadata": {},
   "outputs": [
    {
     "data": {
      "text/plain": [
       "18"
      ]
     },
     "execution_count": 25,
     "metadata": {},
     "output_type": "execute_result"
    }
   ],
   "source": [
    "student[\"age\"]"
   ]
  },
  {
   "cell_type": "code",
   "execution_count": 31,
   "id": "6dcd9ffb-7de8-4aab-9cc0-2a0fb5eb4013",
   "metadata": {},
   "outputs": [
    {
     "name": "stdout",
     "output_type": "stream",
     "text": [
      "None\n"
     ]
    }
   ],
   "source": [
    "r = student.get(\"nam4\")\n",
    "print(r)"
   ]
  },
  {
   "cell_type": "markdown",
   "id": "3bfa19aa-a51a-4c0c-98f4-b84a3aedeaef",
   "metadata": {},
   "source": [
    "### Dicitonary Methods"
   ]
  },
  {
   "cell_type": "code",
   "execution_count": 37,
   "id": "61607d2f-9a2b-4952-a558-16e382af27a4",
   "metadata": {},
   "outputs": [],
   "source": [
    "myself = {\n",
    "    \"name\": \"Siddharth\",\n",
    "    \"age\": 18,\n",
    "    \"Occupation\": \"Entrepreneur\"\n",
    "}"
   ]
  },
  {
   "cell_type": "code",
   "execution_count": 43,
   "id": "7016dc7e-d993-4845-a173-e144c376294b",
   "metadata": {},
   "outputs": [],
   "source": [
    "myself[\"city\"] = \"Jaipur\" # add a key inside a dictionary caled myself"
   ]
  },
  {
   "cell_type": "code",
   "execution_count": 45,
   "id": "5fdc0b24-e928-4ebd-854e-f18d075b9342",
   "metadata": {},
   "outputs": [
    {
     "data": {
      "text/plain": [
       "{'name': 'Siddharth',\n",
       " 'age': 18,\n",
       " 'Occupation': 'Entrepreneur',\n",
       " 'city': 'Jaipur'}"
      ]
     },
     "execution_count": 45,
     "metadata": {},
     "output_type": "execute_result"
    }
   ],
   "source": [
    "myself"
   ]
  },
  {
   "cell_type": "code",
   "execution_count": 48,
   "id": "9bce181c-557d-4d66-aacc-8111b3351a3a",
   "metadata": {},
   "outputs": [
    {
     "data": {
      "text/plain": [
       "18"
      ]
     },
     "execution_count": 48,
     "metadata": {},
     "output_type": "execute_result"
    }
   ],
   "source": [
    "myself.pop(\"age\")"
   ]
  },
  {
   "cell_type": "code",
   "execution_count": 50,
   "id": "68ff5b70-7bf1-4566-b4bf-cca9e3cc426a",
   "metadata": {},
   "outputs": [
    {
     "data": {
      "text/plain": [
       "{'name': 'Siddharth', 'Occupation': 'Entrepreneur', 'city': 'Jaipur'}"
      ]
     },
     "execution_count": 50,
     "metadata": {},
     "output_type": "execute_result"
    }
   ],
   "source": [
    "myself"
   ]
  },
  {
   "cell_type": "code",
   "execution_count": 52,
   "id": "c6da6e35-788f-4862-a6e4-3050c55b3bbe",
   "metadata": {},
   "outputs": [],
   "source": [
    "# To update a key \n",
    "myself[\"age\"] = 25"
   ]
  },
  {
   "cell_type": "code",
   "execution_count": 54,
   "id": "2bd9765f-a3bd-4f60-af5c-0ce6c1ce1d26",
   "metadata": {},
   "outputs": [
    {
     "data": {
      "text/plain": [
       "{'name': 'Siddharth',\n",
       " 'Occupation': 'Entrepreneur',\n",
       " 'city': 'Jaipur',\n",
       " 'age': 25}"
      ]
     },
     "execution_count": 54,
     "metadata": {},
     "output_type": "execute_result"
    }
   ],
   "source": [
    "myself"
   ]
  },
  {
   "cell_type": "code",
   "execution_count": 58,
   "id": "db087d11-2b32-40df-b7af-7d0d7fe3c259",
   "metadata": {},
   "outputs": [
    {
     "data": {
      "text/plain": [
       "dict_keys(['name', 'Occupation', 'city', 'age'])"
      ]
     },
     "execution_count": 58,
     "metadata": {},
     "output_type": "execute_result"
    }
   ],
   "source": [
    "myself.keys() # Give keys only of dictionary "
   ]
  },
  {
   "cell_type": "code",
   "execution_count": 60,
   "id": "e92d0b7a-df72-4530-88bf-a7c7b208382a",
   "metadata": {},
   "outputs": [
    {
     "data": {
      "text/plain": [
       "dict_values(['Siddharth', 'Entrepreneur', 'Jaipur', 25])"
      ]
     },
     "execution_count": 60,
     "metadata": {},
     "output_type": "execute_result"
    }
   ],
   "source": [
    "myself.values() # Give values only of dicitonary "
   ]
  },
  {
   "cell_type": "code",
   "execution_count": 64,
   "id": "dc7cb501-c5b2-43b4-ac43-031bd23c94c0",
   "metadata": {},
   "outputs": [
    {
     "data": {
      "text/plain": [
       "dict_items([('name', 'Siddharth'), ('Occupation', 'Entrepreneur'), ('city', 'Jaipur'), ('age', 25)])"
      ]
     },
     "execution_count": 64,
     "metadata": {},
     "output_type": "execute_result"
    }
   ],
   "source": [
    "myself.items() # Gives both key and values of dicitonary "
   ]
  },
  {
   "cell_type": "code",
   "execution_count": 68,
   "id": "64d8743f-2044-4c7e-9b3e-b1c9efdb0eff",
   "metadata": {},
   "outputs": [],
   "source": [
    "myself.update(student)"
   ]
  },
  {
   "cell_type": "code",
   "execution_count": 70,
   "id": "7d2f6635-8a7d-4a90-a67b-e37e25192078",
   "metadata": {},
   "outputs": [
    {
     "data": {
      "text/plain": [
       "{'name': 'Kshitij',\n",
       " 'Occupation': 'Entrepreneur',\n",
       " 'city': 'Jaipur',\n",
       " 'age': 18,\n",
       " 'cgpa': 6.29}"
      ]
     },
     "execution_count": 70,
     "metadata": {},
     "output_type": "execute_result"
    }
   ],
   "source": [
    "myself"
   ]
  },
  {
   "cell_type": "code",
   "execution_count": 72,
   "id": "4e851d3f-6ef9-454f-8977-409992db1b3c",
   "metadata": {},
   "outputs": [],
   "source": [
    "myself.clear()"
   ]
  },
  {
   "cell_type": "code",
   "execution_count": 74,
   "id": "5b8a3e94-fb15-4470-afa3-fb8944b9d4c9",
   "metadata": {},
   "outputs": [
    {
     "data": {
      "text/plain": [
       "{}"
      ]
     },
     "execution_count": 74,
     "metadata": {},
     "output_type": "execute_result"
    }
   ],
   "source": [
    "myself"
   ]
  },
  {
   "cell_type": "code",
   "execution_count": null,
   "id": "144908b8-aa0c-477a-9ff5-ebc9d84c3e43",
   "metadata": {},
   "outputs": [],
   "source": []
  },
  {
   "cell_type": "code",
   "execution_count": null,
   "id": "e65ba27e-8110-4462-bc5c-cb9bf37f7731",
   "metadata": {},
   "outputs": [],
   "source": []
  }
 ],
 "metadata": {
  "kernelspec": {
   "display_name": "Python [conda env:base] *",
   "language": "python",
   "name": "conda-base-py"
  },
  "language_info": {
   "codemirror_mode": {
    "name": "ipython",
    "version": 3
   },
   "file_extension": ".py",
   "mimetype": "text/x-python",
   "name": "python",
   "nbconvert_exporter": "python",
   "pygments_lexer": "ipython3",
   "version": "3.12.7"
  }
 },
 "nbformat": 4,
 "nbformat_minor": 5
}
