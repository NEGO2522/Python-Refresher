{
 "cells": [
  {
   "cell_type": "markdown",
   "id": "72e30435-e76f-43f6-87b1-62959c5be648",
   "metadata": {},
   "source": [
    "### Number guessing game python (Using Random Module)"
   ]
  },
  {
   "cell_type": "code",
   "execution_count": 1,
   "id": "3e8342e8-7537-4412-9d0c-8532ed38e525",
   "metadata": {},
   "outputs": [],
   "source": [
    "import random"
   ]
  },
  {
   "cell_type": "code",
   "execution_count": 5,
   "id": "54efb5b5-f77d-456b-a1c2-751bbfc33f66",
   "metadata": {},
   "outputs": [
    {
     "name": "stdin",
     "output_type": "stream",
     "text": [
      "Enter a Number:-  24\n"
     ]
    },
    {
     "name": "stdout",
     "output_type": "stream",
     "text": [
      "Computer Number 73\n",
      "Your Guess number is too Low\n",
      "End of this Program\n"
     ]
    }
   ],
   "source": [
    "cnumber = random.randrange(1,101)\n",
    "user_input = int(input(\"Enter a Number:- \"))\n",
    "if user_input>cnumber:\n",
    "    print(\"Computer Number\",cnumber)\n",
    "    print(\"Your Guess number is too High\")\n",
    "elif cnumber>user_input:\n",
    "    print(\"Computer Number\",cnumber)\n",
    "    print(\"Your Guess number is too Low\")\n",
    "else:\n",
    "    print(\"Computer Number\",cnumber)\n",
    "    print(\"Your Guess Number is Equal\")\n",
    "print(\"End of this Program\")"
   ]
  },
  {
   "cell_type": "code",
   "execution_count": null,
   "id": "546e5bfb-f507-4ad2-9cf6-bd7e6cab58a2",
   "metadata": {},
   "outputs": [],
   "source": []
  }
 ],
 "metadata": {
  "kernelspec": {
   "display_name": "Python 3 (ipykernel)",
   "language": "python",
   "name": "python3"
  },
  "language_info": {
   "codemirror_mode": {
    "name": "ipython",
    "version": 3
   },
   "file_extension": ".py",
   "mimetype": "text/x-python",
   "name": "python",
   "nbconvert_exporter": "python",
   "pygments_lexer": "ipython3",
   "version": "3.13.3"
  }
 },
 "nbformat": 4,
 "nbformat_minor": 5
}
