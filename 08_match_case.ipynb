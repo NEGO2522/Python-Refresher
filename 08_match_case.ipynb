{
 "cells": [
  {
   "cell_type": "markdown",
   "id": "15e8b434-03a8-4e12-9f8a-08bc08584957",
   "metadata": {},
   "source": [
    "# Match-Casse in Python"
   ]
  },
  {
   "cell_type": "code",
   "execution_count": 2,
   "id": "c154c1d6-9b47-410d-958f-ce8b3cf2d4cf",
   "metadata": {},
   "outputs": [],
   "source": [
    "# Syntax\n",
    "def http_status(code):\n",
    "    match code:  \n",
    "        case 200:\n",
    "            return \"Ok\"\n",
    "        case 400:\n",
    "            return \"Bad Request\"\n",
    "        case 404:\n",
    "            return \"Not Found\"\n",
    "        case 500:\n",
    "            return \"Internal Server Error\"\n",
    "        case _:\n",
    "            return \"Unknown Status\""
   ]
  },
  {
   "cell_type": "code",
   "execution_count": 6,
   "id": "12e9858e-465c-4fc8-9ee7-39c2a52f129c",
   "metadata": {},
   "outputs": [
    {
     "name": "stdout",
     "output_type": "stream",
     "text": [
      "Ok\n",
      "Bad Request\n"
     ]
    }
   ],
   "source": [
    "print(http_status(200)) # Ok\n",
    "print(http_status(400)) # Bad Request"
   ]
  },
  {
   "cell_type": "code",
   "execution_count": 10,
   "id": "490b6dff-dc67-4826-90c1-4da5ab66daff",
   "metadata": {},
   "outputs": [
    {
     "name": "stdout",
     "output_type": "stream",
     "text": [
      "Point at (3, 4)\n"
     ]
    }
   ],
   "source": [
    "# Eg:- Matching Data Structure.\n",
    "\n",
    "point = (3, 4)\n",
    "\n",
    "match point:\n",
    "    case (0, 0):\n",
    "        print(\"Origin\")\n",
    "    case (x, 0):\n",
    "        print(f\"X-Axis at x = {x}\")\n",
    "    case (0, y):\n",
    "        print(f\"Y-Axis at y = {y}\")\n",
    "    case (x, y):\n",
    "        print(f\"Point at ({x}, {y})\")\n"
   ]
  },
  {
   "cell_type": "code",
   "execution_count": null,
   "id": "be3d5828-a8e8-4651-a897-419971d786e2",
   "metadata": {},
   "outputs": [],
   "source": []
  }
 ],
 "metadata": {
  "kernelspec": {
   "display_name": "Python [conda env:base] *",
   "language": "python",
   "name": "conda-base-py"
  },
  "language_info": {
   "codemirror_mode": {
    "name": "ipython",
    "version": 3
   },
   "file_extension": ".py",
   "mimetype": "text/x-python",
   "name": "python",
   "nbconvert_exporter": "python",
   "pygments_lexer": "ipython3",
   "version": "3.12.7"
  }
 },
 "nbformat": 4,
 "nbformat_minor": 5
}
