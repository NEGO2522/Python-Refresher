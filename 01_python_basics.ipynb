{
 "cells": [
  {
   "cell_type": "markdown",
   "id": "0eb7c65f-d8d8-49cb-bc1e-04833c25b23c",
   "metadata": {},
   "source": [
    "# Python Basics (Variables , Data Types and TypeCasting)"
   ]
  },
  {
   "cell_type": "code",
   "execution_count": 2,
   "id": "0c0f23c8-a44d-4bd3-909b-731a05be3b03",
   "metadata": {},
   "outputs": [],
   "source": [
    "a = 5 # This is varibale"
   ]
  },
  {
   "cell_type": "code",
   "execution_count": 3,
   "id": "c43e09ed-0dd0-425d-8188-810ceb6517a9",
   "metadata": {},
   "outputs": [],
   "source": [
    "b =32 # This is also an variable "
   ]
  },
  {
   "cell_type": "code",
   "execution_count": 4,
   "id": "d3f3281e-c5f7-40f1-9b3f-762c6cd576ae",
   "metadata": {},
   "outputs": [
    {
     "name": "stdout",
     "output_type": "stream",
     "text": [
      "37\n"
     ]
    }
   ],
   "source": [
    "print(a+b)"
   ]
  },
  {
   "cell_type": "code",
   "execution_count": 5,
   "id": "df2b77a6-7e88-47ab-9bf2-a5bab5046b31",
   "metadata": {},
   "outputs": [],
   "source": [
    "name = \"Kshitij\" # Strin Datatype"
   ]
  },
  {
   "cell_type": "code",
   "execution_count": 6,
   "id": "49760284-cb36-4b53-88c6-b15e2576f802",
   "metadata": {},
   "outputs": [
    {
     "name": "stdout",
     "output_type": "stream",
     "text": [
      "Hello World\n"
     ]
    }
   ],
   "source": [
    "print(\"Hello World\") # This will print hello world on screen."
   ]
  },
  {
   "cell_type": "code",
   "execution_count": 7,
   "id": "4a67330f-8af3-4be2-a98d-0f91c3b93ce4",
   "metadata": {},
   "outputs": [
    {
     "name": "stdout",
     "output_type": "stream",
     "text": [
      "Kshitij\n"
     ]
    }
   ],
   "source": [
    "print(name)"
   ]
  },
  {
   "cell_type": "code",
   "execution_count": 8,
   "id": "4eb06dae-51fa-4f60-b5a1-da0789f905a6",
   "metadata": {},
   "outputs": [],
   "source": [
    "# This is A comment "
   ]
  },
  {
   "cell_type": "code",
   "execution_count": 9,
   "id": "19bca495-1b33-426a-bd60-3bc4308c5ca1",
   "metadata": {},
   "outputs": [
    {
     "name": "stdout",
     "output_type": "stream",
     "text": [
      "<class 'int'>\n"
     ]
    }
   ],
   "source": [
    "print(type(a))"
   ]
  },
  {
   "cell_type": "code",
   "execution_count": 10,
   "id": "06b8dc4a-3c21-4eef-92f5-531a199ce3dd",
   "metadata": {},
   "outputs": [
    {
     "name": "stdout",
     "output_type": "stream",
     "text": [
      "<class 'str'>\n"
     ]
    }
   ],
   "source": [
    "print(type(name)) "
   ]
  },
  {
   "cell_type": "code",
   "execution_count": 11,
   "id": "d5381517-b172-482b-8a2f-13c66dc22199",
   "metadata": {},
   "outputs": [],
   "source": [
    "d = 87.24 # Floating point number datatype"
   ]
  },
  {
   "cell_type": "code",
   "execution_count": 12,
   "id": "8c7cbca2-93da-4800-afbb-57781410cf41",
   "metadata": {},
   "outputs": [
    {
     "name": "stdout",
     "output_type": "stream",
     "text": [
      "<class 'float'>\n"
     ]
    }
   ],
   "source": [
    "print(type(d))"
   ]
  },
  {
   "cell_type": "code",
   "execution_count": 13,
   "id": "fb215346-3de3-4d85-a565-ecb89eefe42c",
   "metadata": {},
   "outputs": [],
   "source": [
    "e = True # Boolean datatype"
   ]
  },
  {
   "cell_type": "code",
   "execution_count": 14,
   "id": "f9fbf386-d154-4b40-885e-e7a4ccc30a8f",
   "metadata": {},
   "outputs": [
    {
     "name": "stdout",
     "output_type": "stream",
     "text": [
      "<class 'bool'>\n"
     ]
    }
   ],
   "source": [
    "print(type(e))"
   ]
  },
  {
   "cell_type": "code",
   "execution_count": 15,
   "id": "17d0ebcd-2b1a-4f2b-b3b6-9d84c7a2b353",
   "metadata": {},
   "outputs": [],
   "source": [
    "f = 2+3j # Complex Datatype"
   ]
  },
  {
   "cell_type": "code",
   "execution_count": 16,
   "id": "b4582d1e-12f2-47b3-b1eb-321743a78bf7",
   "metadata": {},
   "outputs": [
    {
     "name": "stdout",
     "output_type": "stream",
     "text": [
      "<class 'complex'>\n"
     ]
    }
   ],
   "source": [
    "print(type(f))"
   ]
  },
  {
   "cell_type": "code",
   "execution_count": 17,
   "id": "a240ba86-3a00-4aba-a37c-1f8e03ab3736",
   "metadata": {},
   "outputs": [],
   "source": [
    "lis = [1,2,3,4,5,\"Kshitij\"] # List datatype"
   ]
  },
  {
   "cell_type": "code",
   "execution_count": 18,
   "id": "1b11c195-d5bf-47a8-9e14-8e80cf1dd772",
   "metadata": {},
   "outputs": [
    {
     "name": "stdout",
     "output_type": "stream",
     "text": [
      "<class 'list'>\n"
     ]
    }
   ],
   "source": [
    "print(type(lis))"
   ]
  },
  {
   "cell_type": "code",
   "execution_count": 19,
   "id": "06c51cbc-4b3c-42b9-8072-81333fd8cdf5",
   "metadata": {},
   "outputs": [],
   "source": [
    " k = {12,34,4532} # Set Datype"
   ]
  },
  {
   "cell_type": "code",
   "execution_count": 20,
   "id": "08df8d0c-448e-4382-8187-bc60fc955346",
   "metadata": {},
   "outputs": [
    {
     "name": "stdout",
     "output_type": "stream",
     "text": [
      "<class 'set'>\n"
     ]
    }
   ],
   "source": [
    "print(type(k))"
   ]
  },
  {
   "cell_type": "code",
   "execution_count": 21,
   "id": "32e4bf05-1ec5-4896-b50d-cdfe3f4d250b",
   "metadata": {},
   "outputs": [],
   "source": [
    "x = 35"
   ]
  },
  {
   "cell_type": "code",
   "execution_count": 22,
   "id": "6038cb2f-9fa9-4b5f-acd4-dbc1486741bf",
   "metadata": {},
   "outputs": [
    {
     "data": {
      "text/plain": [
       "int"
      ]
     },
     "execution_count": 22,
     "metadata": {},
     "output_type": "execute_result"
    }
   ],
   "source": [
    "type(x)"
   ]
  },
  {
   "cell_type": "code",
   "execution_count": 23,
   "id": "7518f8e3-19a6-46e6-81ea-73e1e2504652",
   "metadata": {},
   "outputs": [
    {
     "name": "stdout",
     "output_type": "stream",
     "text": [
      "35.0\n"
     ]
    }
   ],
   "source": [
    "print(float(x))"
   ]
  },
  {
   "cell_type": "code",
   "execution_count": 24,
   "id": "b9feb671-f874-4abd-8a54-dc5701c40921",
   "metadata": {},
   "outputs": [],
   "source": [
    "y = 3.14"
   ]
  },
  {
   "cell_type": "code",
   "execution_count": 25,
   "id": "6f0a3659-2b41-4591-a869-1a9976245315",
   "metadata": {},
   "outputs": [
    {
     "name": "stdout",
     "output_type": "stream",
     "text": [
      "3\n"
     ]
    }
   ],
   "source": [
    "print(int(y))"
   ]
  },
  {
   "cell_type": "code",
   "execution_count": 58,
   "id": "b8ea742d-52e7-421f-b1a5-5abd4e562160",
   "metadata": {},
   "outputs": [],
   "source": [
    "z= \"83482748\"\n",
    "b = \"823984\""
   ]
  },
  {
   "cell_type": "code",
   "execution_count": 60,
   "id": "21620ce8-1203-40f5-995e-5fa4324af866",
   "metadata": {},
   "outputs": [
    {
     "data": {
      "text/plain": [
       "84306732"
      ]
     },
     "execution_count": 60,
     "metadata": {},
     "output_type": "execute_result"
    }
   ],
   "source": [
    "int(z)+int(b)"
   ]
  },
  {
   "cell_type": "markdown",
   "id": "a2aa8475-6be3-4d90-a505-b313a791739f",
   "metadata": {},
   "source": [
    "## String Operations basic Not all "
   ]
  },
  {
   "cell_type": "code",
   "execution_count": 27,
   "id": "570e4e41-dd61-42e8-8a4e-c8cd8ca9900f",
   "metadata": {},
   "outputs": [],
   "source": [
    "num1 = \"7449247\"\n",
    "num2 = \"472364\""
   ]
  },
  {
   "cell_type": "code",
   "execution_count": 28,
   "id": "3f30fde3-1d54-4afb-a218-1b890d4b5892",
   "metadata": {},
   "outputs": [
    {
     "name": "stdout",
     "output_type": "stream",
     "text": [
      "7449247472364\n"
     ]
    }
   ],
   "source": [
    "print(num1+num2)  ## Concatine both of the strings"
   ]
  }
 ],
 "metadata": {
  "kernelspec": {
   "display_name": "Python [conda env:base] *",
   "language": "python",
   "name": "conda-base-py"
  },
  "language_info": {
   "codemirror_mode": {
    "name": "ipython",
    "version": 3
   },
   "file_extension": ".py",
   "mimetype": "text/x-python",
   "name": "python",
   "nbconvert_exporter": "python",
   "pygments_lexer": "ipython3",
   "version": "3.12.7"
  }
 },
 "nbformat": 4,
 "nbformat_minor": 5
}
