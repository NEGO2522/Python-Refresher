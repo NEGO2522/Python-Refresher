{
 "cells": [
  {
   "cell_type": "markdown",
   "id": "610742f7-5fd2-4df7-a818-b38c3aa577ac",
   "metadata": {},
   "source": [
    "# Strings and String Methods in Python"
   ]
  },
  {
   "cell_type": "code",
   "execution_count": 2,
   "id": "a243cd07-a9cb-48b8-98c3-c67ba65f171f",
   "metadata": {},
   "outputs": [],
   "source": [
    "name = \"Kshitij Jain\""
   ]
  },
  {
   "cell_type": "code",
   "execution_count": 3,
   "id": "b81c4b47-9b96-4541-9cfe-a5656756d367",
   "metadata": {},
   "outputs": [
    {
     "data": {
      "text/plain": [
       "'Kshitij Jain'"
      ]
     },
     "execution_count": 3,
     "metadata": {},
     "output_type": "execute_result"
    }
   ],
   "source": [
    "name"
   ]
  },
  {
   "cell_type": "code",
   "execution_count": 4,
   "id": "9a90667f-35ce-4938-9dcd-8eda2062994f",
   "metadata": {},
   "outputs": [
    {
     "data": {
      "text/plain": [
       "'KSHITIJ JAIN'"
      ]
     },
     "execution_count": 4,
     "metadata": {},
     "output_type": "execute_result"
    }
   ],
   "source": [
    "name.upper() # Upper method"
   ]
  },
  {
   "cell_type": "code",
   "execution_count": 5,
   "id": "60f91d62-3cca-4af9-9ad1-63ff679207b5",
   "metadata": {},
   "outputs": [
    {
     "data": {
      "text/plain": [
       "'kshitij jain'"
      ]
     },
     "execution_count": 5,
     "metadata": {},
     "output_type": "execute_result"
    }
   ],
   "source": [
    "name.lower() # Lower Method"
   ]
  },
  {
   "cell_type": "code",
   "execution_count": 6,
   "id": "4e880527-9cd6-4945-b871-122137068566",
   "metadata": {},
   "outputs": [
    {
     "data": {
      "text/plain": [
       "'Ksh'"
      ]
     },
     "execution_count": 6,
     "metadata": {},
     "output_type": "execute_result"
    }
   ],
   "source": [
    "name[0:3]"
   ]
  },
  {
   "cell_type": "code",
   "execution_count": 7,
   "id": "3237f252-3261-4cf4-8f8c-9b21bab5a93d",
   "metadata": {},
   "outputs": [
    {
     "data": {
      "text/plain": [
       "'Kshitij Jain'"
      ]
     },
     "execution_count": 7,
     "metadata": {},
     "output_type": "execute_result"
    }
   ],
   "source": [
    "name.title() # Ttile method"
   ]
  },
  {
   "cell_type": "code",
   "execution_count": 8,
   "id": "7e375fde-e817-4e6a-b180-17becced2684",
   "metadata": {},
   "outputs": [
    {
     "data": {
      "text/plain": [
       "'Kshitij jain'"
      ]
     },
     "execution_count": 8,
     "metadata": {},
     "output_type": "execute_result"
    }
   ],
   "source": [
    "name.capitalize() # Capitalize method"
   ]
  },
  {
   "cell_type": "code",
   "execution_count": 9,
   "id": "13761ac1-7894-49e0-aaed-fd4af5a9b101",
   "metadata": {},
   "outputs": [
    {
     "data": {
      "text/plain": [
       "'Kshitij Jain'"
      ]
     },
     "execution_count": 9,
     "metadata": {},
     "output_type": "execute_result"
    }
   ],
   "source": [
    "name.strip() # Strip method"
   ]
  },
  {
   "cell_type": "code",
   "execution_count": 10,
   "id": "a3513012-2200-4c9b-9528-a3468c671eaf",
   "metadata": {},
   "outputs": [
    {
     "data": {
      "text/plain": [
       "'Kshitij NEGO'"
      ]
     },
     "execution_count": 10,
     "metadata": {},
     "output_type": "execute_result"
    }
   ],
   "source": [
    "name.replace(\"Jain\",\"NEGO\") # Replace method"
   ]
  },
  {
   "cell_type": "code",
   "execution_count": 11,
   "id": "fc56d286-5a8d-4b07-a986-58bb51abed54",
   "metadata": {},
   "outputs": [
    {
     "data": {
      "text/plain": [
       "['Kshitij', 'Jain']"
      ]
     },
     "execution_count": 11,
     "metadata": {},
     "output_type": "execute_result"
    }
   ],
   "source": [
    "name.split() # Split Method"
   ]
  },
  {
   "cell_type": "code",
   "execution_count": 12,
   "id": "2201fa0a-fba9-41f0-99e6-853cf0489dcd",
   "metadata": {},
   "outputs": [],
   "source": [
    "text = \"hello hello hello\" # count method"
   ]
  },
  {
   "cell_type": "code",
   "execution_count": 13,
   "id": "23052511-e135-460f-a14d-65d39ac2c659",
   "metadata": {},
   "outputs": [
    {
     "data": {
      "text/plain": [
       "3"
      ]
     },
     "execution_count": 13,
     "metadata": {},
     "output_type": "execute_result"
    }
   ],
   "source": [
    "text.count(\"hello\")"
   ]
  },
  {
   "cell_type": "code",
   "execution_count": 14,
   "id": "dd7964a8-decc-448a-a5b4-5a4d6a8e3c2a",
   "metadata": {},
   "outputs": [],
   "source": [
    "length = len(name) # To find length of given string"
   ]
  },
  {
   "cell_type": "code",
   "execution_count": 15,
   "id": "2e5bda5d-5cda-4433-bde5-c091671a835c",
   "metadata": {},
   "outputs": [
    {
     "data": {
      "text/plain": [
       "12"
      ]
     },
     "execution_count": 15,
     "metadata": {},
     "output_type": "execute_result"
    }
   ],
   "source": [
    "length"
   ]
  },
  {
   "cell_type": "code",
   "execution_count": 16,
   "id": "afdfede9-409b-4a95-beb4-38b593c8223f",
   "metadata": {},
   "outputs": [
    {
     "data": {
      "text/plain": [
       "True"
      ]
     },
     "execution_count": 16,
     "metadata": {},
     "output_type": "execute_result"
    }
   ],
   "source": [
    "name.endswith(\"in\") # Endswith method"
   ]
  },
  {
   "cell_type": "code",
   "execution_count": 17,
   "id": "459e0a72-cf0d-4d39-9c8e-21e8ebd4e475",
   "metadata": {},
   "outputs": [
    {
     "data": {
      "text/plain": [
       "True"
      ]
     },
     "execution_count": 17,
     "metadata": {},
     "output_type": "execute_result"
    }
   ],
   "source": [
    "name.startswith(\"Ksh\") # Startswith mehtod"
   ]
  },
  {
   "cell_type": "code",
   "execution_count": 18,
   "id": "d7671b41-e2f9-463d-bdbf-0fa164e93de0",
   "metadata": {},
   "outputs": [
    {
     "data": {
      "text/plain": [
       "1"
      ]
     },
     "execution_count": 18,
     "metadata": {},
     "output_type": "execute_result"
    }
   ],
   "source": [
    "name.count(\"j\") # Count Method"
   ]
  },
  {
   "cell_type": "code",
   "execution_count": 37,
   "id": "4349b745-a1b0-4af5-a05e-9ca53770e47a",
   "metadata": {},
   "outputs": [
    {
     "data": {
      "text/plain": [
       "'Hello'"
      ]
     },
     "execution_count": 37,
     "metadata": {},
     "output_type": "execute_result"
    }
   ],
   "source": [
    "s = \"   Hello\"   # Strip  Method\n",
    "s.strip()"
   ]
  },
  {
   "cell_type": "code",
   "execution_count": 39,
   "id": "390d6d72-8917-4ba2-ad7c-a6e72792e568",
   "metadata": {},
   "outputs": [
    {
     "data": {
      "text/plain": [
       "13"
      ]
     },
     "execution_count": 39,
     "metadata": {},
     "output_type": "execute_result"
    }
   ],
   "source": [
    "entrepre = \"FounderOfNego\"\n",
    "len(entrepre)"
   ]
  },
  {
   "cell_type": "code",
   "execution_count": 47,
   "id": "673223b8-67fa-4fee-8420-d372fa0dfa6c",
   "metadata": {},
   "outputs": [
    {
     "data": {
      "text/plain": [
       "'FounderOfNeg'"
      ]
     },
     "execution_count": 47,
     "metadata": {},
     "output_type": "execute_result"
    }
   ],
   "source": [
    "entrepre[0:-1]"
   ]
  },
  {
   "cell_type": "code",
   "execution_count": null,
   "id": "b6ff35e4-a2c6-4146-b5cc-bb47061a392a",
   "metadata": {},
   "outputs": [],
   "source": []
  }
 ],
 "metadata": {
  "kernelspec": {
   "display_name": "Python [conda env:base] *",
   "language": "python",
   "name": "conda-base-py"
  },
  "language_info": {
   "codemirror_mode": {
    "name": "ipython",
    "version": 3
   },
   "file_extension": ".py",
   "mimetype": "text/x-python",
   "name": "python",
   "nbconvert_exporter": "python",
   "pygments_lexer": "ipython3",
   "version": "3.12.7"
  }
 },
 "nbformat": 4,
 "nbformat_minor": 5
}
