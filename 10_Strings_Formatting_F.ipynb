{
 "cells": [
  {
   "cell_type": "markdown",
   "id": "cd6ffe7c-89b1-4471-a636-b0dbe23e0452",
   "metadata": {},
   "source": [
    "# String Formatting And f-strings in Python"
   ]
  },
  {
   "cell_type": "code",
   "execution_count": 2,
   "id": "948d2b1d-d12b-4d7f-950f-e001af4c6208",
   "metadata": {},
   "outputs": [
    {
     "data": {
      "text/plain": [
       "'K'"
      ]
     },
     "execution_count": 2,
     "metadata": {},
     "output_type": "execute_result"
    }
   ],
   "source": [
    "s = \"Kshitij\"\n",
    "s [0]"
   ]
  },
  {
   "cell_type": "code",
   "execution_count": 3,
   "id": "aa55d617-354c-4efe-96c7-a7b023cb7bc4",
   "metadata": {},
   "outputs": [],
   "source": [
    "# s[0] ='p'  # String Objects are immuatble in Python."
   ]
  },
  {
   "cell_type": "markdown",
   "id": "2bf8ad6e-152a-4004-b97b-464f6882f9be",
   "metadata": {},
   "source": [
    " ## Using Format()\n"
   ]
  },
  {
   "cell_type": "code",
   "execution_count": 8,
   "id": "d5363666-4503-4571-a32c-41ab13c2669c",
   "metadata": {},
   "outputs": [
    {
     "name": "stdout",
     "output_type": "stream",
     "text": [
      "My name is Alice and I am 25 Years old\n"
     ]
    }
   ],
   "source": [
    "name = \"Alice\"\n",
    "age = 25\n",
    "print(\"My name is {} and I am {} Years old\".format (name,age))"
   ]
  },
  {
   "cell_type": "markdown",
   "id": "cadf6a0d-97ad-45ca-8355-162f1d9ac3d6",
   "metadata": {},
   "source": [
    "### Positional and Keyword Arguments"
   ]
  },
  {
   "cell_type": "code",
   "execution_count": 15,
   "id": "da052c5d-e322-4465-9722-a238b2779610",
   "metadata": {},
   "outputs": [
    {
     "name": "stdout",
     "output_type": "stream",
     "text": [
      "Alice is learning Python\n"
     ]
    }
   ],
   "source": [
    "print(\"{0} is learning {1}\".format(\"Alice\", \"Python\"))  # Using Positions"
   ]
  },
  {
   "cell_type": "code",
   "execution_count": 19,
   "id": "c9f97776-645d-4d56-9730-b085ca52b015",
   "metadata": {},
   "outputs": [
    {
     "name": "stdout",
     "output_type": "stream",
     "text": [
      "Alice is learning Python\n"
     ]
    }
   ],
   "source": [
    "print(\"{name} is learning {language}\".format(name= \"Alice\", language= \"Python\"))"
   ]
  },
  {
   "cell_type": "markdown",
   "id": "661bc3c3-1676-4a23-912f-d700918f787a",
   "metadata": {},
   "source": [
    "## Using f-strings  (Recommend)"
   ]
  },
  {
   "cell_type": "code",
   "execution_count": 27,
   "id": "8e4984ec-8b0d-43da-8db0-e43b3e893307",
   "metadata": {},
   "outputs": [
    {
     "name": "stdout",
     "output_type": "stream",
     "text": [
      "My name is Kshitij Jain and I am 18 years old. \n"
     ]
    }
   ],
   "source": [
    "name = 'Kshitij Jain'\n",
    "age = '18'\n",
    "print(f\"My name is {name} and I am {age} years old. \")"
   ]
  },
  {
   "cell_type": "markdown",
   "id": "1afa9868-be2b-4623-884c-84cd0ef46a70",
   "metadata": {},
   "source": [
    "### Expresssion Inside F- Strings"
   ]
  },
  {
   "cell_type": "code",
   "execution_count": 33,
   "id": "0ed35f18-cf37-45f0-b162-b452c90c02e4",
   "metadata": {},
   "outputs": [
    {
     "name": "stdout",
     "output_type": "stream",
     "text": [
      "The sum of A and B is 25\n"
     ]
    }
   ],
   "source": [
    "a = 5\n",
    "b = 20\n",
    "print(f\"The sum of A and B is {a+b}\")"
   ]
  },
  {
   "cell_type": "markdown",
   "id": "f06aef6c-4361-44e4-9e4b-54f3b82e8080",
   "metadata": {},
   "source": [
    "### Fomratting Numbers"
   ]
  },
  {
   "cell_type": "code",
   "execution_count": 40,
   "id": "f8ed64d5-ceac-4bfa-b3ba-112d770065ae",
   "metadata": {},
   "outputs": [
    {
     "name": "stdout",
     "output_type": "stream",
     "text": [
      "Pi rounded to 2 decimal place:- 3.14\n"
     ]
    }
   ],
   "source": [
    "pi = 3.14159\n",
    "print(f\"Pi rounded to 2 decimal place:- {pi:.2f}\")"
   ]
  },
  {
   "cell_type": "markdown",
   "id": "c16fc50b-b51b-4ced-8f03-235e673b5ce3",
   "metadata": {},
   "source": [
    "### Padding & Alignment"
   ]
  },
  {
   "cell_type": "code",
   "execution_count": 45,
   "id": "5c447345-8cd4-418a-936d-a71a3082214d",
   "metadata": {},
   "outputs": [
    {
     "name": "stdout",
     "output_type": "stream",
     "text": [
      "Python    \n",
      "    Python\n",
      "  Pyhton  \n"
     ]
    }
   ],
   "source": [
    "print(f\"{'Python':<10}\")\n",
    "print(f\"{'Python':>10}\")\n",
    "print(f\"{'Pyhton':^10}\")"
   ]
  },
  {
   "cell_type": "code",
   "execution_count": null,
   "id": "a12841fe-50a9-437a-aab8-1db11f314446",
   "metadata": {},
   "outputs": [],
   "source": []
  }
 ],
 "metadata": {
  "kernelspec": {
   "display_name": "Python [conda env:base] *",
   "language": "python",
   "name": "conda-base-py"
  },
  "language_info": {
   "codemirror_mode": {
    "name": "ipython",
    "version": 3
   },
   "file_extension": ".py",
   "mimetype": "text/x-python",
   "name": "python",
   "nbconvert_exporter": "python",
   "pygments_lexer": "ipython3",
   "version": "3.12.7"
  }
 },
 "nbformat": 4,
 "nbformat_minor": 5
}
