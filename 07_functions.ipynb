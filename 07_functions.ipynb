{
 "cells": [
  {
   "cell_type": "markdown",
   "id": "43eda4b1-3541-4237-af32-90659c9aebab",
   "metadata": {},
   "source": [
    "# Functions in Python "
   ]
  },
  {
   "cell_type": "code",
   "execution_count": 2,
   "id": "c5c0e0a7-4fd7-4211-9fe7-7b93399401b5",
   "metadata": {},
   "outputs": [],
   "source": [
    "def avg(a,b):\n",
    "    return (a+b)/2"
   ]
  },
  {
   "cell_type": "code",
   "execution_count": 4,
   "id": "f60e631a-d1af-41fe-8590-761fd533fcf7",
   "metadata": {},
   "outputs": [
    {
     "data": {
      "text/plain": [
       "5.0"
      ]
     },
     "execution_count": 4,
     "metadata": {},
     "output_type": "execute_result"
    }
   ],
   "source": [
    "avg(4,6)"
   ]
  },
  {
   "cell_type": "markdown",
   "id": "847f79fb-6e61-43bc-86d2-558d606cb3b4",
   "metadata": {},
   "source": [
    "In functions I can also set default value of parameters"
   ]
  },
  {
   "cell_type": "code",
   "execution_count": 7,
   "id": "a7d807ff-b61b-44d7-9f7a-aa94e0c5913c",
   "metadata": {},
   "outputs": [],
   "source": [
    "def avg(a,b=0):\n",
    "    return (a+b)/2"
   ]
  },
  {
   "cell_type": "code",
   "execution_count": 9,
   "id": "7b37febd-f0d5-4431-b981-e24bd218ab15",
   "metadata": {},
   "outputs": [
    {
     "data": {
      "text/plain": [
       "2.5"
      ]
     },
     "execution_count": 9,
     "metadata": {},
     "output_type": "execute_result"
    }
   ],
   "source": [
    "avg(5)"
   ]
  },
  {
   "cell_type": "code",
   "execution_count": 15,
   "id": "88c622c1-0e0b-41d4-a50d-c4d81caa126c",
   "metadata": {},
   "outputs": [],
   "source": [
    " def greet():\n",
    "     print(\"Hello! Good Morning\")"
   ]
  },
  {
   "cell_type": "code",
   "execution_count": 17,
   "id": "107b72fc-20ab-47d4-902e-b1c945246364",
   "metadata": {},
   "outputs": [
    {
     "name": "stdout",
     "output_type": "stream",
     "text": [
      "Hello! Good Morning\n"
     ]
    }
   ],
   "source": [
    "greet()"
   ]
  },
  {
   "cell_type": "code",
   "execution_count": null,
   "id": "fdfd8ce6-ba27-4ec5-9de7-b62a7d7fbbb0",
   "metadata": {},
   "outputs": [],
   "source": []
  }
 ],
 "metadata": {
  "kernelspec": {
   "display_name": "Python [conda env:base] *",
   "language": "python",
   "name": "conda-base-py"
  },
  "language_info": {
   "codemirror_mode": {
    "name": "ipython",
    "version": 3
   },
   "file_extension": ".py",
   "mimetype": "text/x-python",
   "name": "python",
   "nbconvert_exporter": "python",
   "pygments_lexer": "ipython3",
   "version": "3.12.7"
  }
 },
 "nbformat": 4,
 "nbformat_minor": 5
}
