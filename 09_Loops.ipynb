{
 "cells": [
  {
   "cell_type": "markdown",
   "id": "651c9309-755c-4db2-90b0-51e53639a828",
   "metadata": {},
   "source": [
    "# Loops In Python \n",
    "Python has two main types of loops: for and while"
   ]
  },
  {
   "cell_type": "markdown",
   "id": "92339f60-2cad-40c4-b763-ca817491982f",
   "metadata": {},
   "source": [
    "## 1. For Loop\n",
    "Used to Iterate over sequence like list, tuples and strings"
   ]
  },
  {
   "cell_type": "code",
   "execution_count": 7,
   "id": "a37f57d6-1f6e-4cd6-81b6-14e3d2d726bf",
   "metadata": {},
   "outputs": [],
   "source": [
    "fruits =[\"apple\",\"banana\",\"cherry\"]"
   ]
  },
  {
   "cell_type": "code",
   "execution_count": 9,
   "id": "0753797e-d9be-4b57-995e-acdfd6502628",
   "metadata": {},
   "outputs": [
    {
     "name": "stdout",
     "output_type": "stream",
     "text": [
      "apple\n",
      "banana\n",
      "cherry\n"
     ]
    }
   ],
   "source": [
    "for fruit in fruits:\n",
    "    print(fruit)"
   ]
  },
  {
   "cell_type": "markdown",
   "id": "a36ca1ad-4557-479f-bd5e-0046b4f3c295",
   "metadata": {},
   "source": [
    "### Using range()"
   ]
  },
  {
   "cell_type": "code",
   "execution_count": 12,
   "id": "2bbc1f11-78f2-439a-9864-f1e293132f65",
   "metadata": {},
   "outputs": [
    {
     "name": "stdout",
     "output_type": "stream",
     "text": [
      "0\n",
      "1\n",
      "2\n"
     ]
    }
   ],
   "source": [
    "for i in range(3):\n",
    "    print(i)"
   ]
  },
  {
   "cell_type": "markdown",
   "id": "71e899db-69a7-4fab-90cc-712ee2135d3b",
   "metadata": {},
   "source": [
    "## 2. While Loop"
   ]
  },
  {
   "cell_type": "markdown",
   "id": "339621ad-5f58-4380-8395-3813c9162ef1",
   "metadata": {},
   "source": [
    "Run as long as condition is true."
   ]
  },
  {
   "cell_type": "code",
   "execution_count": 17,
   "id": "0d8e4350-ef7f-4143-8846-c915d57f1d4b",
   "metadata": {},
   "outputs": [
    {
     "name": "stdout",
     "output_type": "stream",
     "text": [
      "0\n",
      "1\n",
      "2\n"
     ]
    }
   ],
   "source": [
    "count = 0 \n",
    "while count<3:\n",
    "    print(count)\n",
    "    count+=1"
   ]
  },
  {
   "cell_type": "markdown",
   "id": "b6e056f1-b5c5-4431-adac-a765a77874aa",
   "metadata": {},
   "source": [
    "## 3. Loop control Statement"
   ]
  },
  {
   "cell_type": "markdown",
   "id": "5e57c17d-fe2e-4bf0-b311-d26cbbe03f34",
   "metadata": {},
   "source": [
    " - break -> Exits the loop.\n",
    " - continue -> Skip the next iteration\n",
    " - pass -> Does nothing(used as a placeholder)"
   ]
  },
  {
   "cell_type": "code",
   "execution_count": 22,
   "id": "da265265-acaf-4af1-9b04-450f1fb913aa",
   "metadata": {},
   "outputs": [
    {
     "name": "stdout",
     "output_type": "stream",
     "text": [
      "0\n",
      "1\n",
      "2\n"
     ]
    }
   ],
   "source": [
    "for i in range(5):\n",
    "    if i ==3:\n",
    "        break # Stop the loop at 3\n",
    "    print(i)"
   ]
  },
  {
   "cell_type": "code",
   "execution_count": 24,
   "id": "0a5d5a8a-b6c2-484f-90bf-7f9fb3506c70",
   "metadata": {},
   "outputs": [],
   "source": [
    "l = [3,5,6,67]"
   ]
  },
  {
   "cell_type": "code",
   "execution_count": 26,
   "id": "9c898830-185c-44b8-ad58-fa1f6ed460e1",
   "metadata": {},
   "outputs": [
    {
     "name": "stdout",
     "output_type": "stream",
     "text": [
      "3\n",
      "5\n",
      "6\n",
      "67\n"
     ]
    }
   ],
   "source": [
    "for item in l:\n",
    "    print(item)"
   ]
  },
  {
   "cell_type": "code",
   "execution_count": 28,
   "id": "9bb84e9b-40c9-4ac8-9f5c-43e557382e16",
   "metadata": {},
   "outputs": [
    {
     "name": "stdout",
     "output_type": "stream",
     "text": [
      "0\n",
      "1\n",
      "2\n",
      "3\n",
      "4\n",
      "5\n",
      "6\n",
      "7\n",
      "8\n",
      "9\n"
     ]
    }
   ],
   "source": [
    "for i in range (10):\n",
    "    print(i)"
   ]
  },
  {
   "cell_type": "code",
   "execution_count": 30,
   "id": "7de74dda-a8b6-445a-be3d-f9c2b904dc59",
   "metadata": {},
   "outputs": [
    {
     "name": "stdout",
     "output_type": "stream",
     "text": [
      "5\n",
      "6\n",
      "7\n",
      "8\n",
      "9\n",
      "10\n"
     ]
    }
   ],
   "source": [
    "for i in range(5,11):\n",
    "    print(i)"
   ]
  },
  {
   "cell_type": "code",
   "execution_count": 32,
   "id": "a3cc76a1-1d0f-44fc-9ce6-c63f3342c34f",
   "metadata": {},
   "outputs": [
    {
     "name": "stdout",
     "output_type": "stream",
     "text": [
      "0\n",
      "1\n",
      "2\n",
      "3\n",
      "4\n",
      "5\n",
      "6\n",
      "7\n",
      "8\n",
      "9\n",
      "10\n",
      "11\n"
     ]
    }
   ],
   "source": [
    "i = 0\n",
    "while i<12:\n",
    "    print(i)\n",
    "    i +=1"
   ]
  },
  {
   "cell_type": "code",
   "execution_count": 64,
   "id": "fda29ffc-017a-485c-bee0-6f84b843c7d1",
   "metadata": {},
   "outputs": [
    {
     "name": "stdout",
     "output_type": "stream",
     "text": [
      "Keep Going!\n"
     ]
    }
   ],
   "source": [
    "for item in l:\n",
    "    pass;  # Pass Statement does nothing\n",
    "print(\"Keep Going!\")"
   ]
  },
  {
   "cell_type": "code",
   "execution_count": 66,
   "id": "f05ad2a4-2472-4cce-ae13-9f00418294c0",
   "metadata": {},
   "outputs": [
    {
     "name": "stdout",
     "output_type": "stream",
     "text": [
      "Apple\n"
     ]
    }
   ],
   "source": [
    "l = [\"Apple\", \"Banana\", \"Cherry\"]\n",
    "for item in l:\n",
    "    if(item == \"Banana\"):\n",
    "         break # Stop the loop right here \n",
    "    print(item)"
   ]
  },
  {
   "cell_type": "code",
   "execution_count": 68,
   "id": "435b1c57-c38b-4504-ae83-5ac43395d358",
   "metadata": {},
   "outputs": [
    {
     "name": "stdout",
     "output_type": "stream",
     "text": [
      "Apple\n",
      "Cherry\n"
     ]
    }
   ],
   "source": [
    "l = [\"Apple\", \"Banana\", \"Cherry\"]\n",
    "for item in l:\n",
    "    if(item == \"Banana\"):\n",
    "         continue # stop this particular iteration of the loop.\n",
    "    print(item)"
   ]
  }
 ],
 "metadata": {
  "kernelspec": {
   "display_name": "Python [conda env:base] *",
   "language": "python",
   "name": "conda-base-py"
  },
  "language_info": {
   "codemirror_mode": {
    "name": "ipython",
    "version": 3
   },
   "file_extension": ".py",
   "mimetype": "text/x-python",
   "name": "python",
   "nbconvert_exporter": "python",
   "pygments_lexer": "ipython3",
   "version": "3.12.7"
  }
 },
 "nbformat": 4,
 "nbformat_minor": 5
}
