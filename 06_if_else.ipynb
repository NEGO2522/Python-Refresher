{
 "cells": [
  {
   "cell_type": "markdown",
   "id": "1af594f6-9c86-4f1f-a2b9-60d565a7be6a",
   "metadata": {},
   "source": [
    " # Conditional Statement in Python \n",
    " ## Basic If Statement"
   ]
  },
  {
   "cell_type": "code",
   "execution_count": 4,
   "id": "73c0401a-0d65-4253-b89b-0aa894c2fe04",
   "metadata": {},
   "outputs": [],
   "source": [
    "x = 2\n",
    "if x > 5 :\n",
    "    print(\"x is gretater then 5\")"
   ]
  },
  {
   "cell_type": "markdown",
   "id": "6de5162b-f113-4b5d-916b-7d27bfaa8910",
   "metadata": {},
   "source": [
    " ## Basic if-else Statement "
   ]
  },
  {
   "cell_type": "code",
   "execution_count": 9,
   "id": "849f1a82-08a0-49eb-97bb-664f473e93ca",
   "metadata": {},
   "outputs": [
    {
     "name": "stdout",
     "output_type": "stream",
     "text": [
      "Smaller\n"
     ]
    }
   ],
   "source": [
    "a = 4 \n",
    "if (a>53):\n",
    "    print(\"Greater\")\n",
    "else:\n",
    "    print(\"Smaller\")"
   ]
  },
  {
   "cell_type": "markdown",
   "id": "ec2aed71-822c-4f56-9c61-fbd228c33286",
   "metadata": {},
   "source": [
    "## If-elif-else condition statement"
   ]
  },
  {
   "cell_type": "code",
   "execution_count": 14,
   "id": "9410ebd6-5a03-4d56-9b41-19f439cd84a9",
   "metadata": {},
   "outputs": [
    {
     "name": "stdout",
     "output_type": "stream",
     "text": [
      "Done!\n"
     ]
    }
   ],
   "source": [
    "a = 29\n",
    "if a>50 :\n",
    "    print(\"Greater then 50\")\n",
    "elif(a>40):\n",
    "    print(\"Greater than 40\")\n",
    "elif(a>30):\n",
    "    print(\"Greater than 30\")\n",
    "else:\n",
    "    print(\"Done!\")\n",
    "    \n",
    "    "
   ]
  },
  {
   "cell_type": "markdown",
   "id": "9623865b-bb30-4cfd-bc40-7596e57cc088",
   "metadata": {},
   "source": [
    " ## Using if-else in data science "
   ]
  },
  {
   "cell_type": "code",
   "execution_count": 18,
   "id": "771f8e37-af39-4efb-944c-2275a35b648f",
   "metadata": {},
   "outputs": [
    {
     "name": "stdout",
     "output_type": "stream",
     "text": [
      "Category Adult\n"
     ]
    }
   ],
   "source": [
    "# Categorizng data\n",
    "age = 25\n",
    "if age < 18:\n",
    "    category = \"Minor\"\n",
    "elif (age <65):\n",
    "    category = \"Adult\"\n",
    "else:\n",
    "    category = \"Senior Citizen\"\n",
    "print(\"Category\",category)"
   ]
  },
  {
   "cell_type": "code",
   "execution_count": 22,
   "id": "8259bef8-daa3-4c53-afe4-aebe55bfc52b",
   "metadata": {},
   "outputs": [
    {
     "name": "stdout",
     "output_type": "stream",
     "text": [
      "      Name  Score Result\n",
      "0    Alice     85   Pass\n",
      "1      Bob     40   Fail\n",
      "2  Charlie     75   Pass\n"
     ]
    }
   ],
   "source": [
    "## Applying a condition on a pandas DataFrame\n",
    "\n",
    "import pandas as pd \n",
    "\n",
    "data = {'Name' : ['Alice', 'Bob', 'Charlie'], 'Score': [85,40,75]}\n",
    "df = pd.DataFrame(data)\n",
    "\n",
    "df ['Result'] = df['Score'].apply(lambda x: 'Pass' if x >= 50 else 'Fail')\n",
    "print(df)"
   ]
  },
  {
   "cell_type": "code",
   "execution_count": null,
   "id": "9b4cc515-860b-4b08-a392-de46968223db",
   "metadata": {},
   "outputs": [],
   "source": []
  }
 ],
 "metadata": {
  "kernelspec": {
   "display_name": "Python [conda env:base] *",
   "language": "python",
   "name": "conda-base-py"
  },
  "language_info": {
   "codemirror_mode": {
    "name": "ipython",
    "version": 3
   },
   "file_extension": ".py",
   "mimetype": "text/x-python",
   "name": "python",
   "nbconvert_exporter": "python",
   "pygments_lexer": "ipython3",
   "version": "3.12.7"
  }
 },
 "nbformat": 4,
 "nbformat_minor": 5
}
