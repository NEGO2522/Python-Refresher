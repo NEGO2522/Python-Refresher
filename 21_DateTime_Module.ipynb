{
 "cells": [
  {
   "cell_type": "markdown",
   "id": "75c4fcf9-5727-44c3-80c0-3965ff2d3441",
   "metadata": {},
   "source": [
    "### Data and Time Module In Python"
   ]
  },
  {
   "cell_type": "code",
   "execution_count": 2,
   "id": "722989ff-30cc-47d8-aa8d-82b323bdc1fe",
   "metadata": {},
   "outputs": [
    {
     "name": "stdout",
     "output_type": "stream",
     "text": [
      "2025-04-27 18:58:36.383105\n"
     ]
    }
   ],
   "source": [
    "import datetime\n",
    "x = datetime.datetime.now()\n",
    "print(x)"
   ]
  },
  {
   "cell_type": "code",
   "execution_count": 3,
   "id": "3c3066a4-f839-4bab-b0a7-c798b6e0b091",
   "metadata": {},
   "outputs": [
    {
     "name": "stdout",
     "output_type": "stream",
     "text": [
      "2021-01-18 00:00:00\n"
     ]
    }
   ],
   "source": [
    "x = datetime.datetime(2021,1,18)\n",
    "print(x)"
   ]
  },
  {
   "cell_type": "code",
   "execution_count": 4,
   "id": "3d5ca954-e813-4a69-961f-ab093f26bb77",
   "metadata": {},
   "outputs": [
    {
     "name": "stdout",
     "output_type": "stream",
     "text": [
      "year 2025\n"
     ]
    }
   ],
   "source": [
    "now = datetime.datetime.now()\n",
    "year = now.strftime(\"%Y\")\n",
    "print(\"year\",year)"
   ]
  },
  {
   "cell_type": "code",
   "execution_count": 5,
   "id": "3ee9b884-499b-4fc4-a119-67292591c073",
   "metadata": {},
   "outputs": [
    {
     "name": "stdout",
     "output_type": "stream",
     "text": [
      "month 04\n"
     ]
    }
   ],
   "source": [
    "month = now.strftime(\"%m\")\n",
    "print(\"month\",month)"
   ]
  },
  {
   "cell_type": "code",
   "execution_count": 10,
   "id": "918e3b49-d180-4f07-9463-89322fb230ed",
   "metadata": {},
   "outputs": [
    {
     "name": "stdout",
     "output_type": "stream",
     "text": [
      "month Apr\n"
     ]
    }
   ],
   "source": [
    "date = now.strftime(\"%b\")\n",
    "print(\"month\", date)"
   ]
  },
  {
   "cell_type": "code",
   "execution_count": null,
   "id": "3f500b93-3622-4352-90ca-c57f472342e9",
   "metadata": {},
   "outputs": [],
   "source": []
  }
 ],
 "metadata": {
  "kernelspec": {
   "display_name": "Python 3 (ipykernel)",
   "language": "python",
   "name": "python3"
  },
  "language_info": {
   "codemirror_mode": {
    "name": "ipython",
    "version": 3
   },
   "file_extension": ".py",
   "mimetype": "text/x-python",
   "name": "python",
   "nbconvert_exporter": "python",
   "pygments_lexer": "ipython3",
   "version": "3.13.3"
  }
 },
 "nbformat": 4,
 "nbformat_minor": 5
}
