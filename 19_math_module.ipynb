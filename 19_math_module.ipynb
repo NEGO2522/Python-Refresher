{
 "cells": [
  {
   "cell_type": "code",
   "execution_count": 1,
   "id": "0dbffe6e-72a3-43e4-bdee-694de5baa7ca",
   "metadata": {},
   "outputs": [
    {
     "data": {
      "text/plain": [
       "12"
      ]
     },
     "execution_count": 1,
     "metadata": {},
     "output_type": "execute_result"
    }
   ],
   "source": [
    "import math \n",
    "math.ceil(11.2)"
   ]
  },
  {
   "cell_type": "code",
   "execution_count": 2,
   "id": "ba552b25-32a8-4eb2-8fa3-a788940ea7b0",
   "metadata": {},
   "outputs": [
    {
     "data": {
      "text/plain": [
       "10.0"
      ]
     },
     "execution_count": 2,
     "metadata": {},
     "output_type": "execute_result"
    }
   ],
   "source": [
    "math.fabs(-10)"
   ]
  },
  {
   "cell_type": "code",
   "execution_count": 6,
   "id": "cc9cebdd-2846-4b1c-80ed-2253e9b8db36",
   "metadata": {},
   "outputs": [
    {
     "data": {
      "text/plain": [
       "38289484.0"
      ]
     },
     "execution_count": 6,
     "metadata": {},
     "output_type": "execute_result"
    }
   ],
   "source": [
    "math.fabs(-38289484)"
   ]
  },
  {
   "cell_type": "code",
   "execution_count": 13,
   "id": "d399ad1d-d68a-4287-ace3-5d76e6f84da5",
   "metadata": {},
   "outputs": [
    {
     "data": {
      "text/plain": [
       "120"
      ]
     },
     "execution_count": 13,
     "metadata": {},
     "output_type": "execute_result"
    }
   ],
   "source": [
    "math.factorial(5)"
   ]
  },
  {
   "cell_type": "code",
   "execution_count": 15,
   "id": "1c07f6dc-dd7a-432d-b997-ad811ca5f8a9",
   "metadata": {},
   "outputs": [
    {
     "data": {
      "text/plain": [
       "10"
      ]
     },
     "execution_count": 15,
     "metadata": {},
     "output_type": "execute_result"
    }
   ],
   "source": [
    "math.floor(10.5)"
   ]
  },
  {
   "cell_type": "code",
   "execution_count": 16,
   "id": "99127e79-807c-423e-9491-ce4e5005ffb0",
   "metadata": {},
   "outputs": [
    {
     "data": {
      "text/plain": [
       "165.0"
      ]
     },
     "execution_count": 16,
     "metadata": {},
     "output_type": "execute_result"
    }
   ],
   "source": [
    "l = [10,20,40,45,50]\n",
    "math.fsum(l)"
   ]
  },
  {
   "cell_type": "code",
   "execution_count": 19,
   "id": "4232b3c3-2563-4816-a58b-fcd9082e2398",
   "metadata": {},
   "outputs": [
    {
     "data": {
      "text/plain": [
       "15.0"
      ]
     },
     "execution_count": 19,
     "metadata": {},
     "output_type": "execute_result"
    }
   ],
   "source": [
    " math.sqrt(225)"
   ]
  },
  {
   "cell_type": "code",
   "execution_count": 20,
   "id": "5fae8b8e-697f-480e-8e7b-9fca178b8834",
   "metadata": {},
   "outputs": [
    {
     "data": {
      "text/plain": [
       "3.141592653589793"
      ]
     },
     "execution_count": 20,
     "metadata": {},
     "output_type": "execute_result"
    }
   ],
   "source": [
    "math.pi"
   ]
  },
  {
   "cell_type": "code",
   "execution_count": null,
   "id": "6bd6c009-f10f-4a40-abb9-e43447e6e914",
   "metadata": {},
   "outputs": [],
   "source": []
  }
 ],
 "metadata": {
  "kernelspec": {
   "display_name": "Python 3 (ipykernel)",
   "language": "python",
   "name": "python3"
  },
  "language_info": {
   "codemirror_mode": {
    "name": "ipython",
    "version": 3
   },
   "file_extension": ".py",
   "mimetype": "text/x-python",
   "name": "python",
   "nbconvert_exporter": "python",
   "pygments_lexer": "ipython3",
   "version": "3.13.3"
  }
 },
 "nbformat": 4,
 "nbformat_minor": 5
}
