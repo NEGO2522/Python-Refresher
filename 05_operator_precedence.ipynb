{
 "cells": [
  {
   "cell_type": "markdown",
   "id": "cd651fe0-0e67-42d8-89c0-cd190330f9f8",
   "metadata": {},
   "source": [
    "# Operator Precedence In Python \n",
    "\n",
    "Python follows <b>PEMDAS</b> (Parentheses, Exponents, Multiplication/Division, Addition/Subtraction).\n",
    "\n",
    "### Example:"
   ]
  },
  {
   "cell_type": "code",
   "execution_count": 2,
   "id": "831e5e6f-17c2-4b02-b769-91e1859c0380",
   "metadata": {},
   "outputs": [
    {
     "name": "stdout",
     "output_type": "stream",
     "text": [
      "16\n"
     ]
    }
   ],
   "source": [
    "result = 10+2*3 # Multiplication happens first 10 + (2*3) =16 \n",
    "print(result)"
   ]
  },
  {
   "cell_type": "code",
   "execution_count": 3,
   "id": "d06d5de3-5387-4b7b-a45f-66c24d81d74b",
   "metadata": {},
   "outputs": [
    {
     "name": "stdout",
     "output_type": "stream",
     "text": [
      "36\n"
     ]
    }
   ],
   "source": [
    "result = (10+2) * 3 # Parenteses first: (10+2) *3 = 36\n",
    "print(result)"
   ]
  },
  {
   "cell_type": "code",
   "execution_count": 4,
   "id": "29a52011-f544-4ef6-bc92-598e40d77c2e",
   "metadata": {},
   "outputs": [
    {
     "name": "stdout",
     "output_type": "stream",
     "text": [
      "512\n"
     ]
    }
   ],
   "source": [
    "result = 2 ** 3 ** 2  # Right to left exponentiation: 2 **(3**2) = 2 ** 9 = 512\n",
    "print(result)"
   ]
  },
  {
   "cell_type": "code",
   "execution_count": 5,
   "id": "ff287165-1b00-4eba-9503-fb591f8dc85e",
   "metadata": {},
   "outputs": [
    {
     "name": "stdout",
     "output_type": "stream",
     "text": [
      "-1889558.956521739\n"
     ]
    }
   ],
   "source": [
    "result = 54*3/23+2-18**5 # First exponents work because no parentheses, then go to multiplication then division, then addition, and then subtraction\n",
    "print(result)"
   ]
  },
  {
   "cell_type": "code",
   "execution_count": 6,
   "id": "af6ac4da-9c6b-41c2-8cca-a50e9f5d2dd4",
   "metadata": {},
   "outputs": [
    {
     "data": {
      "text/plain": [
       "-1889558.956521739"
      ]
     },
     "execution_count": 6,
     "metadata": {},
     "output_type": "execute_result"
    }
   ],
   "source": [
    "54*3/23+2-1889568"
   ]
  },
  {
   "cell_type": "code",
   "execution_count": 7,
   "id": "b2b14f96-8997-4dc5-8c7a-63ff0bb3ec48",
   "metadata": {},
   "outputs": [
    {
     "data": {
      "text/plain": [
       "-1889558.956521739"
      ]
     },
     "execution_count": 7,
     "metadata": {},
     "output_type": "execute_result"
    }
   ],
   "source": [
    "162/23+2-1889568"
   ]
  },
  {
   "cell_type": "code",
   "execution_count": 8,
   "id": "8c848dd8-e43d-4287-8bee-b733fb32834a",
   "metadata": {},
   "outputs": [
    {
     "data": {
      "text/plain": [
       "-1889558.956521739"
      ]
     },
     "execution_count": 8,
     "metadata": {},
     "output_type": "execute_result"
    }
   ],
   "source": [
    "7.04347826087+2-1889568"
   ]
  },
  {
   "cell_type": "code",
   "execution_count": 9,
   "id": "0ab66d10-b23d-44ed-a2a7-caea81fffa6a",
   "metadata": {},
   "outputs": [
    {
     "name": "stdout",
     "output_type": "stream",
     "text": [
      "8.0\n"
     ]
    }
   ],
   "source": [
    "print(16/4*2) # (16/4) *2 = 4.0 *2 = 8.0"
   ]
  }
 ],
 "metadata": {
  "kernelspec": {
   "display_name": "Python [conda env:base] *",
   "language": "python",
   "name": "conda-base-py"
  },
  "language_info": {
   "codemirror_mode": {
    "name": "ipython",
    "version": 3
   },
   "file_extension": ".py",
   "mimetype": "text/x-python",
   "name": "python",
   "nbconvert_exporter": "python",
   "pygments_lexer": "ipython3",
   "version": "3.12.7"
  }
 },
 "nbformat": 4,
 "nbformat_minor": 5
}
