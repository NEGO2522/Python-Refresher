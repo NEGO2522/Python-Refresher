{
 "cells": [
  {
   "cell_type": "markdown",
   "id": "6095b24f-16bb-4583-8dc1-fb111c055c98",
   "metadata": {},
   "source": [
    "# List Comprehension In Python "
   ]
  },
  {
   "cell_type": "code",
   "execution_count": 3,
   "id": "6d0bea32-3fba-4f9b-819b-9fe889a268cd",
   "metadata": {},
   "outputs": [
    {
     "name": "stdout",
     "output_type": "stream",
     "text": [
      "[0, 1, 4, 9, 16]\n"
     ]
    }
   ],
   "source": [
    "squares = [x**2 for x in range(5)]\n",
    "print(squares)  # Output: [0, 1, 4, 9, 16]"
   ]
  },
  {
   "cell_type": "markdown",
   "id": "ccdd7e39-a578-4e09-b121-6458a728de53",
   "metadata": {},
   "source": [
    "### Using if condition in List Compreshension "
   ]
  },
  {
   "cell_type": "code",
   "execution_count": 14,
   "id": "dcb90dc1-7cf0-4370-ad62-39bbbe70b198",
   "metadata": {},
   "outputs": [
    {
     "name": "stdout",
     "output_type": "stream",
     "text": [
      "[0, 2, 4, 6, 8]\n"
     ]
    }
   ],
   "source": [
    "evens = [x for x in range(10) if x % 2 == 0]\n",
    "print(evens)"
   ]
  },
  {
   "cell_type": "markdown",
   "id": "8b93aa48-7fd3-44d4-bc73-8dd44eaa5f44",
   "metadata": {},
   "source": [
    "### Using if-else Condition in List Comprehension"
   ]
  },
  {
   "cell_type": "code",
   "execution_count": 20,
   "id": "4fbac62b-63e4-4c7d-8e49-f30f4b2402be",
   "metadata": {},
   "outputs": [
    {
     "name": "stdout",
     "output_type": "stream",
     "text": [
      "['Evens', 'Odd', 'Evens', 'Odd', 'Evens']\n"
     ]
    }
   ],
   "source": [
    "numbers = [\"Evens\" if x % 2 == 0 else \"Odd\" for x in range(5)]\n",
    "print(numbers)"
   ]
  },
  {
   "cell_type": "markdown",
   "id": "3bf16f00-9547-4012-9982-57c3341c9057",
   "metadata": {},
   "source": [
    " ###  Nested Loops in List Comprehension"
   ]
  },
  {
   "cell_type": "code",
   "execution_count": 24,
   "id": "7aeb1085-9697-4312-bb99-2021867fcd25",
   "metadata": {},
   "outputs": [
    {
     "name": "stdout",
     "output_type": "stream",
     "text": [
      "[(0, 0), (0, 1), (0, 2), (1, 0), (1, 1), (1, 2)]\n"
     ]
    }
   ],
   "source": [
    "pairs = [(x,y) for x in range(2) for y in range(3)]\n",
    "print(pairs)"
   ]
  },
  {
   "cell_type": "markdown",
   "id": "2f519434-c686-49e9-b231-5baa5793a62b",
   "metadata": {},
   "source": [
    "### List Comprehension with Functions"
   ]
  },
  {
   "cell_type": "code",
   "execution_count": 28,
   "id": "06fc29ff-71bd-4b5a-8893-410b5dd82a45",
   "metadata": {},
   "outputs": [
    {
     "name": "stdout",
     "output_type": "stream",
     "text": [
      "['SAMSUNG', 'PYTHON', 'APPLE']\n"
     ]
    }
   ],
   "source": [
    "words = [\"samsung\",\"python\",\"apple\"]\n",
    "upper_words = [word.upper() for word in words]\n",
    "print(upper_words)"
   ]
  },
  {
   "cell_type": "code",
   "execution_count": null,
   "id": "3e5b916e-674e-4893-a85f-49c8e49ef7ed",
   "metadata": {},
   "outputs": [],
   "source": []
  }
 ],
 "metadata": {
  "kernelspec": {
   "display_name": "Python [conda env:base] *",
   "language": "python",
   "name": "conda-base-py"
  },
  "language_info": {
   "codemirror_mode": {
    "name": "ipython",
    "version": 3
   },
   "file_extension": ".py",
   "mimetype": "text/x-python",
   "name": "python",
   "nbconvert_exporter": "python",
   "pygments_lexer": "ipython3",
   "version": "3.12.7"
  }
 },
 "nbformat": 4,
 "nbformat_minor": 5
}
