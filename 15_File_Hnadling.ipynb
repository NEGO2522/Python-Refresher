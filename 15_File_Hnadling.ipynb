{
 "cells": [
  {
   "cell_type": "markdown",
   "id": "6fc7a495-61cc-45ef-bdde-0e1546dcca53",
   "metadata": {},
   "source": [
    "# File Handling In Python "
   ]
  },
  {
   "cell_type": "markdown",
   "id": "64786bc8-a028-4121-95fb-c92330a05260",
   "metadata": {},
   "source": [
    "File handling in python programs to read,write and manipulate files stored on disk. Python provide built-in-functions for working with files."
   ]
  },
  {
   "cell_type": "markdown",
   "id": "37668ad3-caaa-4f52-b8b4-674b77883c57",
   "metadata": {},
   "source": [
    "---"
   ]
  },
  {
   "cell_type": "markdown",
   "id": "00fa88ba-b451-4f6d-8466-4380aec3cd10",
   "metadata": {},
   "source": [
    "### Opening a File"
   ]
  },
  {
   "cell_type": "markdown",
   "id": "e3c9d3df-997e-44f6-9bc9-10d099756eda",
   "metadata": {},
   "source": [
    "Python uses th open() function to open a file."
   ]
  },
  {
   "cell_type": "code",
   "execution_count": 38,
   "id": "7948aeeb-79da-4ff8-93e6-61c8b79a3aab",
   "metadata": {},
   "outputs": [],
   "source": [
    "f = open(\"text.txt\",\"r\")  # Read a file with using mode \"r\"."
   ]
  },
  {
   "cell_type": "code",
   "execution_count": 40,
   "id": "115a8dc4-e5a2-4622-84a9-4771bfff0100",
   "metadata": {},
   "outputs": [
    {
     "data": {
      "text/plain": [
       "'Kshitij \\nis \\ngood \\nboy'"
      ]
     },
     "execution_count": 40,
     "metadata": {},
     "output_type": "execute_result"
    }
   ],
   "source": [
    "f.read()"
   ]
  },
  {
   "cell_type": "code",
   "execution_count": 45,
   "id": "d4da0259-90c2-4c37-86f5-a0459c561f03",
   "metadata": {},
   "outputs": [],
   "source": [
    "f.close()"
   ]
  },
  {
   "cell_type": "markdown",
   "id": "6ec8a2fa-d732-4d09-af4a-20c2aae3ce72",
   "metadata": {},
   "source": [
    "### Wiritng in  a file "
   ]
  },
  {
   "cell_type": "code",
   "execution_count": 69,
   "id": "c08e3a0f-9091-40e6-b286-cec1d9f594d2",
   "metadata": {},
   "outputs": [],
   "source": [
    "s =\"This is nothing but another text file.\""
   ]
  },
  {
   "cell_type": "code",
   "execution_count": 73,
   "id": "768361ee-ab5b-47af-b5ea-a2ef318d4b0d",
   "metadata": {},
   "outputs": [
    {
     "data": {
      "text/plain": [
       "38"
      ]
     },
     "execution_count": 73,
     "metadata": {},
     "output_type": "execute_result"
    }
   ],
   "source": [
    "f = open(\"Kshi.txt\", \"w\")\n",
    "f.write(s)"
   ]
  },
  {
   "cell_type": "code",
   "execution_count": 75,
   "id": "65b8c45c-3c82-49f1-815e-c599bc42908e",
   "metadata": {},
   "outputs": [],
   "source": [
    "f.close()"
   ]
  },
  {
   "cell_type": "markdown",
   "id": "d2f6ec5b-6fe8-4b0a-9573-60efcb5289f3",
   "metadata": {},
   "source": [
    "### Append in a file "
   ]
  },
  {
   "cell_type": "code",
   "execution_count": 80,
   "id": "e9aec6e0-1a15-4999-a751-84db6c2feaeb",
   "metadata": {},
   "outputs": [],
   "source": [
    "f = open(\"Kshi.txt\",\"a\")\n",
    "f.write(\"\\nHello World\")\n",
    "f.close()"
   ]
  },
  {
   "cell_type": "markdown",
   "id": "4d0de190-fb85-42de-b85e-57e125065e44",
   "metadata": {},
   "source": [
    "### With Statement (Best Practise for not use f.close())"
   ]
  },
  {
   "cell_type": "code",
   "execution_count": 85,
   "id": "db016576-5236-4433-9055-c168b42f33f8",
   "metadata": {},
   "outputs": [
    {
     "name": "stdout",
     "output_type": "stream",
     "text": [
      "Kshitij \n",
      "is \n",
      "good \n",
      "boy\n"
     ]
    }
   ],
   "source": [
    "with open(\"text.txt\", \"r\") as file:\n",
    "    content = file.read()\n",
    "    print(content)"
   ]
  },
  {
   "cell_type": "markdown",
   "id": "1ff00a1f-a897-45e5-b482-7ce450366537",
   "metadata": {},
   "source": [
    "### Checking If a File Exist"
   ]
  },
  {
   "cell_type": "code",
   "execution_count": 90,
   "id": "5f43660e-5606-4372-bce9-759002a503b6",
   "metadata": {},
   "outputs": [
    {
     "name": "stdout",
     "output_type": "stream",
     "text": [
      "File exists!\n"
     ]
    }
   ],
   "source": [
    "import os \n",
    "\n",
    "if os.path.exists(\"text.txt\"):\n",
    "    print(\"File exists!\")\n",
    "else:\n",
    "    print(\"File not found\")"
   ]
  },
  {
   "cell_type": "code",
   "execution_count": null,
   "id": "7c0faf03-14b4-4ff2-a976-d3b0819ac419",
   "metadata": {},
   "outputs": [],
   "source": []
  },
  {
   "cell_type": "markdown",
   "id": "142cc40e-09f7-42b8-934b-0d780767bf6b",
   "metadata": {},
   "source": [
    "### Delete a file If exist"
   ]
  },
  {
   "cell_type": "code",
   "execution_count": 98,
   "id": "7f6f0784-1dd8-4253-9f9c-24527bf03543",
   "metadata": {},
   "outputs": [
    {
     "name": "stdout",
     "output_type": "stream",
     "text": [
      "File deleted.\n"
     ]
    }
   ],
   "source": [
    "import os \n",
    "if os.path.exists(\"delete.txt\"):\n",
    "    os.remove(\"delete.txt\")\n",
    "    print(\"File deleted.\")\n",
    "else:\n",
    "    print(\"File does not Exist\")"
   ]
  },
  {
   "cell_type": "code",
   "execution_count": null,
   "id": "e9546ff7-9f1b-4cad-9a4b-c4a0d1bca64d",
   "metadata": {},
   "outputs": [],
   "source": []
  }
 ],
 "metadata": {
  "kernelspec": {
   "display_name": "Python [conda env:base] *",
   "language": "python",
   "name": "conda-base-py"
  },
  "language_info": {
   "codemirror_mode": {
    "name": "ipython",
    "version": 3
   },
   "file_extension": ".py",
   "mimetype": "text/x-python",
   "name": "python",
   "nbconvert_exporter": "python",
   "pygments_lexer": "ipython3",
   "version": "3.12.7"
  }
 },
 "nbformat": 4,
 "nbformat_minor": 5
}
