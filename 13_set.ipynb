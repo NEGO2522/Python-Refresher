{
 "cells": [
  {
   "cell_type": "markdown",
   "id": "2039ec77-6310-403a-af8c-70767990fd8f",
   "metadata": {},
   "source": [
    "# Set In Python"
   ]
  },
  {
   "cell_type": "markdown",
   "id": "d8ba4f95-4ad3-4675-b302-c92441698ccc",
   "metadata": {},
   "source": [
    "A set in Python is an unordered,mutable and unique collection of elements. It does not allow duplicate values."
   ]
  },
  {
   "cell_type": "markdown",
   "id": "11c66c37-eca7-42a3-988c-da3a8b50dcc8",
   "metadata": {},
   "source": [
    "## Creating a Set "
   ]
  },
  {
   "cell_type": "code",
   "execution_count": 4,
   "id": "94de2070-5bc2-407d-85c3-735161c1251b",
   "metadata": {},
   "outputs": [],
   "source": [
    "# Empty set \n",
    "empty_set =  set() # This makes an empty set \n",
    "empty_set = {} # This makes an empty dictionary, not an empty set "
   ]
  },
  {
   "cell_type": "code",
   "execution_count": 5,
   "id": "8dc9e691-5135-4e01-99d4-d1ea7087294e",
   "metadata": {},
   "outputs": [],
   "source": [
    "# Set with elements \n",
    "numbers = {1,2,3,4,5}"
   ]
  },
  {
   "cell_type": "code",
   "execution_count": 6,
   "id": "c5fbea3a-42c8-413c-b8a0-30e8cdd177d4",
   "metadata": {},
   "outputs": [],
   "source": [
    "# Mixed data Types \n",
    "mixed_set = {1,\"Hello\",3.14,True}"
   ]
  },
  {
   "cell_type": "code",
   "execution_count": 7,
   "id": "89d2b56d-b6a2-4d6e-955d-fd4bcd4c2a59",
   "metadata": {},
   "outputs": [
    {
     "name": "stdout",
     "output_type": "stream",
     "text": [
      "{1, 2, 3, 4, 5}\n",
      "<class 'set'>\n"
     ]
    }
   ],
   "source": [
    "# Creating a set from a list \n",
    "unique_numbers = set([1,2,2,3,3,4,4,5])\n",
    "print(unique_numbers) # 1,2,3,4,5\n",
    "print(type(unique_numbers))"
   ]
  },
  {
   "cell_type": "markdown",
   "id": "0e555f90-4bef-4ebb-8ffc-c2696a8cb17c",
   "metadata": {},
   "source": [
    "### Common Set Methods"
   ]
  },
  {
   "cell_type": "code",
   "execution_count": 26,
   "id": "d2f47e00-48c4-40f2-b9e6-35d358714c9a",
   "metadata": {},
   "outputs": [],
   "source": [
    "s = {4,3,6,66,4,2}"
   ]
  },
  {
   "cell_type": "code",
   "execution_count": 30,
   "id": "92acbeec-78ed-4b76-adcb-681eab8ad341",
   "metadata": {},
   "outputs": [
    {
     "data": {
      "text/plain": [
       "{2, 3, 4, 6, 34, 66}"
      ]
     },
     "execution_count": 30,
     "metadata": {},
     "output_type": "execute_result"
    }
   ],
   "source": [
    "s.add(34)\n",
    "s"
   ]
  },
  {
   "cell_type": "code",
   "execution_count": 34,
   "id": "591a20dd-2eb1-41de-b9f8-885edf946267",
   "metadata": {},
   "outputs": [
    {
     "data": {
      "text/plain": [
       "{2, 3, 4, 6, 34, 46, 66, 234}"
      ]
     },
     "execution_count": 34,
     "metadata": {},
     "output_type": "execute_result"
    }
   ],
   "source": [
    "s.update([4,46,234])\n",
    "s"
   ]
  },
  {
   "cell_type": "code",
   "execution_count": 38,
   "id": "4376ffe5-3ffe-4df5-9e98-403ec50e82ab",
   "metadata": {},
   "outputs": [],
   "source": [
    "# s.remove(23)\n",
    "# s  # Give error because 23 is not in our set "
   ]
  },
  {
   "cell_type": "code",
   "execution_count": 40,
   "id": "35fbad2e-7f06-4bba-bcd8-08c5ec16c9d4",
   "metadata": {},
   "outputs": [
    {
     "data": {
      "text/plain": [
       "{2, 3, 4, 6, 34, 46, 66, 234}"
      ]
     },
     "execution_count": 40,
     "metadata": {},
     "output_type": "execute_result"
    }
   ],
   "source": [
    "s.discard(23)\n",
    "s"
   ]
  },
  {
   "cell_type": "code",
   "execution_count": 44,
   "id": "cb1126d0-5c80-4581-9f12-2a603530c7d1",
   "metadata": {},
   "outputs": [
    {
     "data": {
      "text/plain": [
       "{3, 4, 6, 34, 46, 66, 234}"
      ]
     },
     "execution_count": 44,
     "metadata": {},
     "output_type": "execute_result"
    }
   ],
   "source": [
    "s.pop()\n",
    "s"
   ]
  },
  {
   "cell_type": "code",
   "execution_count": 46,
   "id": "79db59f7-c9a4-448f-9310-b3e0194b3561",
   "metadata": {},
   "outputs": [
    {
     "data": {
      "text/plain": [
       "set()"
      ]
     },
     "execution_count": 46,
     "metadata": {},
     "output_type": "execute_result"
    }
   ],
   "source": [
    "s.clear()\n",
    "s"
   ]
  },
  {
   "cell_type": "markdown",
   "id": "e6a6fff7-06b9-415c-8bc0-fd3ddd13cb30",
   "metadata": {},
   "source": [
    "### Set Operations "
   ]
  },
  {
   "cell_type": "code",
   "execution_count": 49,
   "id": "5ba878cb-6688-48f2-9ee8-09131f5b1fa9",
   "metadata": {},
   "outputs": [],
   "source": [
    "set1 = {1,2,3,4}\n",
    "set2 = {3,4,5,6}"
   ]
  },
  {
   "cell_type": "code",
   "execution_count": 51,
   "id": "54dfbfbf-890b-4079-bee0-ae559360f6bc",
   "metadata": {},
   "outputs": [
    {
     "data": {
      "text/plain": [
       "{1, 2, 3, 4, 5, 6}"
      ]
     },
     "execution_count": 51,
     "metadata": {},
     "output_type": "execute_result"
    }
   ],
   "source": [
    "set1.union(set2)"
   ]
  },
  {
   "cell_type": "code",
   "execution_count": 57,
   "id": "baf08ff1-94ef-4ade-bb71-a8a2b6bff1bd",
   "metadata": {},
   "outputs": [
    {
     "data": {
      "text/plain": [
       "{1, 2, 3, 4}"
      ]
     },
     "execution_count": 57,
     "metadata": {},
     "output_type": "execute_result"
    }
   ],
   "source": [
    "set1 "
   ]
  },
  {
   "cell_type": "code",
   "execution_count": 59,
   "id": "22714a56-3ae3-4b83-b9c2-d9ee87a5c819",
   "metadata": {},
   "outputs": [
    {
     "data": {
      "text/plain": [
       "{3, 4, 5, 6}"
      ]
     },
     "execution_count": 59,
     "metadata": {},
     "output_type": "execute_result"
    }
   ],
   "source": [
    "set2"
   ]
  },
  {
   "cell_type": "code",
   "execution_count": 63,
   "id": "260d7cb8-2c97-4012-8e65-9979e9e85c7d",
   "metadata": {},
   "outputs": [
    {
     "data": {
      "text/plain": [
       "{3, 4}"
      ]
     },
     "execution_count": 63,
     "metadata": {},
     "output_type": "execute_result"
    }
   ],
   "source": [
    "set1.intersection(set2)"
   ]
  },
  {
   "cell_type": "code",
   "execution_count": 65,
   "id": "319d2acc-cd14-44b3-9eb9-25144fdeb733",
   "metadata": {},
   "outputs": [
    {
     "data": {
      "text/plain": [
       "False"
      ]
     },
     "execution_count": 65,
     "metadata": {},
     "output_type": "execute_result"
    }
   ],
   "source": [
    "set1.issubset(set2)"
   ]
  },
  {
   "cell_type": "code",
   "execution_count": 67,
   "id": "d3c867bf-f727-4385-93c0-044f432140bd",
   "metadata": {},
   "outputs": [
    {
     "data": {
      "text/plain": [
       "False"
      ]
     },
     "execution_count": 67,
     "metadata": {},
     "output_type": "execute_result"
    }
   ],
   "source": [
    "set2.issubset(set1)"
   ]
  },
  {
   "cell_type": "code",
   "execution_count": 69,
   "id": "10b0c506-be1a-4954-bfb6-68db91ef6415",
   "metadata": {},
   "outputs": [],
   "source": [
    "sub = {1,3}"
   ]
  },
  {
   "cell_type": "code",
   "execution_count": 71,
   "id": "53ece58a-39c0-4c99-9e1c-547763cc1459",
   "metadata": {},
   "outputs": [
    {
     "data": {
      "text/plain": [
       "True"
      ]
     },
     "execution_count": 71,
     "metadata": {},
     "output_type": "execute_result"
    }
   ],
   "source": [
    "sub.issubset(set1)"
   ]
  },
  {
   "cell_type": "code",
   "execution_count": 73,
   "id": "4263a43e-4db8-4c9f-a99b-1dfedb3eb204",
   "metadata": {},
   "outputs": [
    {
     "data": {
      "text/plain": [
       "True"
      ]
     },
     "execution_count": 73,
     "metadata": {},
     "output_type": "execute_result"
    }
   ],
   "source": [
    "set1.issuperset(sub)"
   ]
  },
  {
   "cell_type": "code",
   "execution_count": null,
   "id": "6cb0d115-686f-4cc2-9d87-654062c36333",
   "metadata": {},
   "outputs": [],
   "source": []
  }
 ],
 "metadata": {
  "kernelspec": {
   "display_name": "Python [conda env:base] *",
   "language": "python",
   "name": "conda-base-py"
  },
  "language_info": {
   "codemirror_mode": {
    "name": "ipython",
    "version": 3
   },
   "file_extension": ".py",
   "mimetype": "text/x-python",
   "name": "python",
   "nbconvert_exporter": "python",
   "pygments_lexer": "ipython3",
   "version": "3.12.7"
  }
 },
 "nbformat": 4,
 "nbformat_minor": 5
}
